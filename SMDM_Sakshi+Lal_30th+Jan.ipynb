{
 "cells": [
  {
   "cell_type": "code",
   "execution_count": 2,
   "id": "7e8e593b",
   "metadata": {},
   "outputs": [],
   "source": [
    "import numpy as np\n",
    "import pandas as pd\n",
    "import seaborn as sns\n",
    "import matplotlib.pyplot as plt\n",
    "%matplotlib inline\n",
    "import scipy.stats as stats\n",
    "from warnings import filterwarnings\n",
    "filterwarnings(\"ignore\")\n",
    "from scipy.stats import   ttest_1samp\n",
    "from scipy.stats import ttest_1samp, ttest_ind\n"
   ]
  },
  {
   "cell_type": "markdown",
   "id": "b1958a05",
   "metadata": {},
   "source": [
    "# Problem 1:\n",
    "A wholesale distributor operating in different regions of Portugal has information on annual spending of several items in their stores across different regions and channels. The data consists of 440 large retailers’ annual spending on 6 different varieties of products in 3 different regions (Lisbon, Oporto, Other) and across different sales channel (Hotel, Retail)."
   ]
  },
  {
   "cell_type": "code",
   "execution_count": 3,
   "id": "8c552f6e",
   "metadata": {},
   "outputs": [
    {
     "data": {
      "text/html": [
       "<div>\n",
       "<style scoped>\n",
       "    .dataframe tbody tr th:only-of-type {\n",
       "        vertical-align: middle;\n",
       "    }\n",
       "\n",
       "    .dataframe tbody tr th {\n",
       "        vertical-align: top;\n",
       "    }\n",
       "\n",
       "    .dataframe thead th {\n",
       "        text-align: right;\n",
       "    }\n",
       "</style>\n",
       "<table border=\"1\" class=\"dataframe\">\n",
       "  <thead>\n",
       "    <tr style=\"text-align: right;\">\n",
       "      <th></th>\n",
       "      <th>Buyer/Spender</th>\n",
       "      <th>Channel</th>\n",
       "      <th>Region</th>\n",
       "      <th>Fresh</th>\n",
       "      <th>Milk</th>\n",
       "      <th>Grocery</th>\n",
       "      <th>Frozen</th>\n",
       "      <th>Detergents_Paper</th>\n",
       "      <th>Delicatessen</th>\n",
       "    </tr>\n",
       "  </thead>\n",
       "  <tbody>\n",
       "    <tr>\n",
       "      <th>0</th>\n",
       "      <td>1</td>\n",
       "      <td>Retail</td>\n",
       "      <td>Other</td>\n",
       "      <td>12669</td>\n",
       "      <td>9656</td>\n",
       "      <td>7561</td>\n",
       "      <td>214</td>\n",
       "      <td>2674</td>\n",
       "      <td>1338</td>\n",
       "    </tr>\n",
       "    <tr>\n",
       "      <th>1</th>\n",
       "      <td>2</td>\n",
       "      <td>Retail</td>\n",
       "      <td>Other</td>\n",
       "      <td>7057</td>\n",
       "      <td>9810</td>\n",
       "      <td>9568</td>\n",
       "      <td>1762</td>\n",
       "      <td>3293</td>\n",
       "      <td>1776</td>\n",
       "    </tr>\n",
       "    <tr>\n",
       "      <th>2</th>\n",
       "      <td>3</td>\n",
       "      <td>Retail</td>\n",
       "      <td>Other</td>\n",
       "      <td>6353</td>\n",
       "      <td>8808</td>\n",
       "      <td>7684</td>\n",
       "      <td>2405</td>\n",
       "      <td>3516</td>\n",
       "      <td>7844</td>\n",
       "    </tr>\n",
       "    <tr>\n",
       "      <th>3</th>\n",
       "      <td>4</td>\n",
       "      <td>Hotel</td>\n",
       "      <td>Other</td>\n",
       "      <td>13265</td>\n",
       "      <td>1196</td>\n",
       "      <td>4221</td>\n",
       "      <td>6404</td>\n",
       "      <td>507</td>\n",
       "      <td>1788</td>\n",
       "    </tr>\n",
       "    <tr>\n",
       "      <th>4</th>\n",
       "      <td>5</td>\n",
       "      <td>Retail</td>\n",
       "      <td>Other</td>\n",
       "      <td>22615</td>\n",
       "      <td>5410</td>\n",
       "      <td>7198</td>\n",
       "      <td>3915</td>\n",
       "      <td>1777</td>\n",
       "      <td>5185</td>\n",
       "    </tr>\n",
       "    <tr>\n",
       "      <th>5</th>\n",
       "      <td>6</td>\n",
       "      <td>Retail</td>\n",
       "      <td>Other</td>\n",
       "      <td>9413</td>\n",
       "      <td>8259</td>\n",
       "      <td>5126</td>\n",
       "      <td>666</td>\n",
       "      <td>1795</td>\n",
       "      <td>1451</td>\n",
       "    </tr>\n",
       "    <tr>\n",
       "      <th>6</th>\n",
       "      <td>7</td>\n",
       "      <td>Retail</td>\n",
       "      <td>Other</td>\n",
       "      <td>12126</td>\n",
       "      <td>3199</td>\n",
       "      <td>6975</td>\n",
       "      <td>480</td>\n",
       "      <td>3140</td>\n",
       "      <td>545</td>\n",
       "    </tr>\n",
       "    <tr>\n",
       "      <th>7</th>\n",
       "      <td>8</td>\n",
       "      <td>Retail</td>\n",
       "      <td>Other</td>\n",
       "      <td>7579</td>\n",
       "      <td>4956</td>\n",
       "      <td>9426</td>\n",
       "      <td>1669</td>\n",
       "      <td>3321</td>\n",
       "      <td>2566</td>\n",
       "    </tr>\n",
       "    <tr>\n",
       "      <th>8</th>\n",
       "      <td>9</td>\n",
       "      <td>Hotel</td>\n",
       "      <td>Other</td>\n",
       "      <td>5963</td>\n",
       "      <td>3648</td>\n",
       "      <td>6192</td>\n",
       "      <td>425</td>\n",
       "      <td>1716</td>\n",
       "      <td>750</td>\n",
       "    </tr>\n",
       "    <tr>\n",
       "      <th>9</th>\n",
       "      <td>10</td>\n",
       "      <td>Retail</td>\n",
       "      <td>Other</td>\n",
       "      <td>6006</td>\n",
       "      <td>11093</td>\n",
       "      <td>18881</td>\n",
       "      <td>1159</td>\n",
       "      <td>7425</td>\n",
       "      <td>2098</td>\n",
       "    </tr>\n",
       "  </tbody>\n",
       "</table>\n",
       "</div>"
      ],
      "text/plain": [
       "   Buyer/Spender Channel Region  Fresh   Milk  Grocery  Frozen  \\\n",
       "0              1  Retail  Other  12669   9656     7561     214   \n",
       "1              2  Retail  Other   7057   9810     9568    1762   \n",
       "2              3  Retail  Other   6353   8808     7684    2405   \n",
       "3              4   Hotel  Other  13265   1196     4221    6404   \n",
       "4              5  Retail  Other  22615   5410     7198    3915   \n",
       "5              6  Retail  Other   9413   8259     5126     666   \n",
       "6              7  Retail  Other  12126   3199     6975     480   \n",
       "7              8  Retail  Other   7579   4956     9426    1669   \n",
       "8              9   Hotel  Other   5963   3648     6192     425   \n",
       "9             10  Retail  Other   6006  11093    18881    1159   \n",
       "\n",
       "   Detergents_Paper  Delicatessen  \n",
       "0              2674          1338  \n",
       "1              3293          1776  \n",
       "2              3516          7844  \n",
       "3               507          1788  \n",
       "4              1777          5185  \n",
       "5              1795          1451  \n",
       "6              3140           545  \n",
       "7              3321          2566  \n",
       "8              1716           750  \n",
       "9              7425          2098  "
      ]
     },
     "execution_count": 3,
     "metadata": {},
     "output_type": "execute_result"
    }
   ],
   "source": [
    "df=pd.read_csv(\"Wholesale Customer.csv\")\n",
    "df.head(10)"
   ]
  },
  {
   "cell_type": "markdown",
   "id": "940796ec",
   "metadata": {},
   "source": [
    "# EDA"
   ]
  },
  {
   "cell_type": "code",
   "execution_count": 89,
   "id": "de072257",
   "metadata": {},
   "outputs": [
    {
     "data": {
      "text/plain": [
       "(440, 9)"
      ]
     },
     "execution_count": 89,
     "metadata": {},
     "output_type": "execute_result"
    }
   ],
   "source": [
    "df.shape"
   ]
  },
  {
   "cell_type": "code",
   "execution_count": 90,
   "id": "a424261a",
   "metadata": {},
   "outputs": [
    {
     "name": "stdout",
     "output_type": "stream",
     "text": [
      "<class 'pandas.core.frame.DataFrame'>\n",
      "RangeIndex: 440 entries, 0 to 439\n",
      "Data columns (total 9 columns):\n",
      " #   Column            Non-Null Count  Dtype \n",
      "---  ------            --------------  ----- \n",
      " 0   Buyer/Spender     440 non-null    int64 \n",
      " 1   Channel           440 non-null    object\n",
      " 2   Region            440 non-null    object\n",
      " 3   Fresh             440 non-null    int64 \n",
      " 4   Milk              440 non-null    int64 \n",
      " 5   Grocery           440 non-null    int64 \n",
      " 6   Frozen            440 non-null    int64 \n",
      " 7   Detergents_Paper  440 non-null    int64 \n",
      " 8   Delicatessen      440 non-null    int64 \n",
      "dtypes: int64(7), object(2)\n",
      "memory usage: 31.1+ KB\n"
     ]
    }
   ],
   "source": [
    "df.info()"
   ]
  },
  {
   "cell_type": "code",
   "execution_count": 91,
   "id": "1e604352",
   "metadata": {},
   "outputs": [
    {
     "data": {
      "text/plain": [
       "Buyer/Spender       0\n",
       "Channel             0\n",
       "Region              0\n",
       "Fresh               0\n",
       "Milk                0\n",
       "Grocery             0\n",
       "Frozen              0\n",
       "Detergents_Paper    0\n",
       "Delicatessen        0\n",
       "dtype: int64"
      ]
     },
     "execution_count": 91,
     "metadata": {},
     "output_type": "execute_result"
    }
   ],
   "source": [
    "df.isnull().sum()"
   ]
  },
  {
   "cell_type": "code",
   "execution_count": 92,
   "id": "5bc0e9cc",
   "metadata": {},
   "outputs": [
    {
     "data": {
      "text/html": [
       "<div>\n",
       "<style scoped>\n",
       "    .dataframe tbody tr th:only-of-type {\n",
       "        vertical-align: middle;\n",
       "    }\n",
       "\n",
       "    .dataframe tbody tr th {\n",
       "        vertical-align: top;\n",
       "    }\n",
       "\n",
       "    .dataframe thead th {\n",
       "        text-align: right;\n",
       "    }\n",
       "</style>\n",
       "<table border=\"1\" class=\"dataframe\">\n",
       "  <thead>\n",
       "    <tr style=\"text-align: right;\">\n",
       "      <th></th>\n",
       "      <th>count</th>\n",
       "      <th>mean</th>\n",
       "      <th>std</th>\n",
       "      <th>min</th>\n",
       "      <th>25%</th>\n",
       "      <th>50%</th>\n",
       "      <th>75%</th>\n",
       "      <th>max</th>\n",
       "    </tr>\n",
       "  </thead>\n",
       "  <tbody>\n",
       "    <tr>\n",
       "      <th>Buyer/Spender</th>\n",
       "      <td>440.0</td>\n",
       "      <td>220.500000</td>\n",
       "      <td>127.161315</td>\n",
       "      <td>1.0</td>\n",
       "      <td>110.75</td>\n",
       "      <td>220.5</td>\n",
       "      <td>330.25</td>\n",
       "      <td>440.0</td>\n",
       "    </tr>\n",
       "    <tr>\n",
       "      <th>Fresh</th>\n",
       "      <td>440.0</td>\n",
       "      <td>12000.297727</td>\n",
       "      <td>12647.328865</td>\n",
       "      <td>3.0</td>\n",
       "      <td>3127.75</td>\n",
       "      <td>8504.0</td>\n",
       "      <td>16933.75</td>\n",
       "      <td>112151.0</td>\n",
       "    </tr>\n",
       "    <tr>\n",
       "      <th>Milk</th>\n",
       "      <td>440.0</td>\n",
       "      <td>5796.265909</td>\n",
       "      <td>7380.377175</td>\n",
       "      <td>55.0</td>\n",
       "      <td>1533.00</td>\n",
       "      <td>3627.0</td>\n",
       "      <td>7190.25</td>\n",
       "      <td>73498.0</td>\n",
       "    </tr>\n",
       "    <tr>\n",
       "      <th>Grocery</th>\n",
       "      <td>440.0</td>\n",
       "      <td>7951.277273</td>\n",
       "      <td>9503.162829</td>\n",
       "      <td>3.0</td>\n",
       "      <td>2153.00</td>\n",
       "      <td>4755.5</td>\n",
       "      <td>10655.75</td>\n",
       "      <td>92780.0</td>\n",
       "    </tr>\n",
       "    <tr>\n",
       "      <th>Frozen</th>\n",
       "      <td>440.0</td>\n",
       "      <td>3071.931818</td>\n",
       "      <td>4854.673333</td>\n",
       "      <td>25.0</td>\n",
       "      <td>742.25</td>\n",
       "      <td>1526.0</td>\n",
       "      <td>3554.25</td>\n",
       "      <td>60869.0</td>\n",
       "    </tr>\n",
       "    <tr>\n",
       "      <th>Detergents_Paper</th>\n",
       "      <td>440.0</td>\n",
       "      <td>2881.493182</td>\n",
       "      <td>4767.854448</td>\n",
       "      <td>3.0</td>\n",
       "      <td>256.75</td>\n",
       "      <td>816.5</td>\n",
       "      <td>3922.00</td>\n",
       "      <td>40827.0</td>\n",
       "    </tr>\n",
       "    <tr>\n",
       "      <th>Delicatessen</th>\n",
       "      <td>440.0</td>\n",
       "      <td>1524.870455</td>\n",
       "      <td>2820.105937</td>\n",
       "      <td>3.0</td>\n",
       "      <td>408.25</td>\n",
       "      <td>965.5</td>\n",
       "      <td>1820.25</td>\n",
       "      <td>47943.0</td>\n",
       "    </tr>\n",
       "  </tbody>\n",
       "</table>\n",
       "</div>"
      ],
      "text/plain": [
       "                  count          mean           std   min      25%     50%  \\\n",
       "Buyer/Spender     440.0    220.500000    127.161315   1.0   110.75   220.5   \n",
       "Fresh             440.0  12000.297727  12647.328865   3.0  3127.75  8504.0   \n",
       "Milk              440.0   5796.265909   7380.377175  55.0  1533.00  3627.0   \n",
       "Grocery           440.0   7951.277273   9503.162829   3.0  2153.00  4755.5   \n",
       "Frozen            440.0   3071.931818   4854.673333  25.0   742.25  1526.0   \n",
       "Detergents_Paper  440.0   2881.493182   4767.854448   3.0   256.75   816.5   \n",
       "Delicatessen      440.0   1524.870455   2820.105937   3.0   408.25   965.5   \n",
       "\n",
       "                       75%       max  \n",
       "Buyer/Spender       330.25     440.0  \n",
       "Fresh             16933.75  112151.0  \n",
       "Milk               7190.25   73498.0  \n",
       "Grocery           10655.75   92780.0  \n",
       "Frozen             3554.25   60869.0  \n",
       "Detergents_Paper   3922.00   40827.0  \n",
       "Delicatessen       1820.25   47943.0  "
      ]
     },
     "execution_count": 92,
     "metadata": {},
     "output_type": "execute_result"
    }
   ],
   "source": [
    "df.describe().T"
   ]
  },
  {
   "cell_type": "code",
   "execution_count": 93,
   "id": "b70c8935",
   "metadata": {},
   "outputs": [],
   "source": [
    "df.drop(['Buyer/Spender'], axis=1 , inplace=True)\n"
   ]
  },
  {
   "cell_type": "code",
   "execution_count": 94,
   "id": "cf367d63",
   "metadata": {},
   "outputs": [
    {
     "data": {
      "text/plain": [
       "['Channel',\n",
       " 'Region',\n",
       " 'Fresh',\n",
       " 'Milk',\n",
       " 'Grocery',\n",
       " 'Frozen',\n",
       " 'Detergents_Paper',\n",
       " 'Delicatessen']"
      ]
     },
     "execution_count": 94,
     "metadata": {},
     "output_type": "execute_result"
    }
   ],
   "source": [
    "list(df.columns)\n"
   ]
  },
  {
   "cell_type": "code",
   "execution_count": 95,
   "id": "06859e97",
   "metadata": {},
   "outputs": [
    {
     "data": {
      "text/html": [
       "<div>\n",
       "<style scoped>\n",
       "    .dataframe tbody tr th:only-of-type {\n",
       "        vertical-align: middle;\n",
       "    }\n",
       "\n",
       "    .dataframe tbody tr th {\n",
       "        vertical-align: top;\n",
       "    }\n",
       "\n",
       "    .dataframe thead th {\n",
       "        text-align: right;\n",
       "    }\n",
       "</style>\n",
       "<table border=\"1\" class=\"dataframe\">\n",
       "  <thead>\n",
       "    <tr style=\"text-align: right;\">\n",
       "      <th></th>\n",
       "      <th>Fresh</th>\n",
       "      <th>Milk</th>\n",
       "      <th>Grocery</th>\n",
       "      <th>Frozen</th>\n",
       "      <th>Detergents_Paper</th>\n",
       "      <th>Delicatessen</th>\n",
       "    </tr>\n",
       "  </thead>\n",
       "  <tbody>\n",
       "    <tr>\n",
       "      <th>0</th>\n",
       "      <td>12669</td>\n",
       "      <td>9656</td>\n",
       "      <td>7561</td>\n",
       "      <td>214</td>\n",
       "      <td>2674</td>\n",
       "      <td>1338</td>\n",
       "    </tr>\n",
       "    <tr>\n",
       "      <th>1</th>\n",
       "      <td>7057</td>\n",
       "      <td>9810</td>\n",
       "      <td>9568</td>\n",
       "      <td>1762</td>\n",
       "      <td>3293</td>\n",
       "      <td>1776</td>\n",
       "    </tr>\n",
       "    <tr>\n",
       "      <th>2</th>\n",
       "      <td>6353</td>\n",
       "      <td>8808</td>\n",
       "      <td>7684</td>\n",
       "      <td>2405</td>\n",
       "      <td>3516</td>\n",
       "      <td>7844</td>\n",
       "    </tr>\n",
       "    <tr>\n",
       "      <th>3</th>\n",
       "      <td>13265</td>\n",
       "      <td>1196</td>\n",
       "      <td>4221</td>\n",
       "      <td>6404</td>\n",
       "      <td>507</td>\n",
       "      <td>1788</td>\n",
       "    </tr>\n",
       "    <tr>\n",
       "      <th>4</th>\n",
       "      <td>22615</td>\n",
       "      <td>5410</td>\n",
       "      <td>7198</td>\n",
       "      <td>3915</td>\n",
       "      <td>1777</td>\n",
       "      <td>5185</td>\n",
       "    </tr>\n",
       "    <tr>\n",
       "      <th>...</th>\n",
       "      <td>...</td>\n",
       "      <td>...</td>\n",
       "      <td>...</td>\n",
       "      <td>...</td>\n",
       "      <td>...</td>\n",
       "      <td>...</td>\n",
       "    </tr>\n",
       "    <tr>\n",
       "      <th>435</th>\n",
       "      <td>29703</td>\n",
       "      <td>12051</td>\n",
       "      <td>16027</td>\n",
       "      <td>13135</td>\n",
       "      <td>182</td>\n",
       "      <td>2204</td>\n",
       "    </tr>\n",
       "    <tr>\n",
       "      <th>436</th>\n",
       "      <td>39228</td>\n",
       "      <td>1431</td>\n",
       "      <td>764</td>\n",
       "      <td>4510</td>\n",
       "      <td>93</td>\n",
       "      <td>2346</td>\n",
       "    </tr>\n",
       "    <tr>\n",
       "      <th>437</th>\n",
       "      <td>14531</td>\n",
       "      <td>15488</td>\n",
       "      <td>30243</td>\n",
       "      <td>437</td>\n",
       "      <td>14841</td>\n",
       "      <td>1867</td>\n",
       "    </tr>\n",
       "    <tr>\n",
       "      <th>438</th>\n",
       "      <td>10290</td>\n",
       "      <td>1981</td>\n",
       "      <td>2232</td>\n",
       "      <td>1038</td>\n",
       "      <td>168</td>\n",
       "      <td>2125</td>\n",
       "    </tr>\n",
       "    <tr>\n",
       "      <th>439</th>\n",
       "      <td>2787</td>\n",
       "      <td>1698</td>\n",
       "      <td>2510</td>\n",
       "      <td>65</td>\n",
       "      <td>477</td>\n",
       "      <td>52</td>\n",
       "    </tr>\n",
       "  </tbody>\n",
       "</table>\n",
       "<p>440 rows × 6 columns</p>\n",
       "</div>"
      ],
      "text/plain": [
       "     Fresh   Milk  Grocery  Frozen  Detergents_Paper  Delicatessen\n",
       "0    12669   9656     7561     214              2674          1338\n",
       "1     7057   9810     9568    1762              3293          1776\n",
       "2     6353   8808     7684    2405              3516          7844\n",
       "3    13265   1196     4221    6404               507          1788\n",
       "4    22615   5410     7198    3915              1777          5185\n",
       "..     ...    ...      ...     ...               ...           ...\n",
       "435  29703  12051    16027   13135               182          2204\n",
       "436  39228   1431      764    4510                93          2346\n",
       "437  14531  15488    30243     437             14841          1867\n",
       "438  10290   1981     2232    1038               168          2125\n",
       "439   2787   1698     2510      65               477            52\n",
       "\n",
       "[440 rows x 6 columns]"
      ]
     },
     "execution_count": 95,
     "metadata": {},
     "output_type": "execute_result"
    }
   ],
   "source": [
    "#Let's check the coorelation among all the categories:\n",
    "\n",
    "products = df[df.columns[+2:df.columns.size]]\n",
    "products"
   ]
  },
  {
   "cell_type": "code",
   "execution_count": 96,
   "id": "f0e3dd10",
   "metadata": {},
   "outputs": [
    {
     "data": {
      "text/plain": [
       "Text(0.5, 1.0, 'Pearson correlation')"
      ]
     },
     "execution_count": 96,
     "metadata": {},
     "output_type": "execute_result"
    },
    {
     "data": {
      "image/png": "[encoded data removed]",
      "text/plain": [
       "<Figure size 720x720 with 2 Axes>"
      ]
     },
     "metadata": {
      "needs_background": "light"
     },
     "output_type": "display_data"
    }
   ],
   "source": [
    "# Compute the Pearson correlation matrix\n",
    "corr = products.corr()\n",
    "plt.figure(figsize=(10,10))\n",
    "plt.tick_params(labelsize=15, pad=6);\n",
    "mask = np.triu(np.ones_like(corr, dtype=np.bool))\n",
    "cmap='BrBG'\n",
    "sns.heatmap(corr, mask=mask, cmap=cmap, vmax=1, center=0.5,\n",
    "            square=True, linewidths=.5, cbar_kws={\"shrink\": .7},annot=True,annot_kws={'size' : 15})\n",
    "plt.title(\"Pearson correlation\", fontsize =20)"
   ]
  },
  {
   "cell_type": "code",
   "execution_count": 221,
   "id": "deacbc58",
   "metadata": {},
   "outputs": [
    {
     "data": {
      "text/plain": [
       "<matplotlib.legend.Legend at 0x28be0678250>"
      ]
     },
     "execution_count": 221,
     "metadata": {},
     "output_type": "execute_result"
    },
    {
     "data": {
      "image/png": "[encoded data removed]",
      "text/plain": [
       "<Figure size 360x360 with 1 Axes>"
      ]
     },
     "metadata": {},
     "output_type": "display_data"
    }
   ],
   "source": [
    "#Let's have a look at the Region and Channel:\n",
    "\n",
    "plt.figure(figsize = (5,5))\n",
    "\n",
    "labels = df.Region.value_counts().keys()\n",
    "plt.pie(df.Region.value_counts(), autopct=\"%.1f%%\",explode=[0.05,0.05,0.05],labels=labels,textprops={'fontsize': 14})\n",
    "plt.legend()\n",
    "plt.legend(loc='upper right')"
   ]
  },
  {
   "cell_type": "code",
   "execution_count": 222,
   "id": "0704eaee",
   "metadata": {},
   "outputs": [
    {
     "data": {
      "text/plain": [
       "<matplotlib.legend.Legend at 0x28be0e84ee0>"
      ]
     },
     "execution_count": 222,
     "metadata": {},
     "output_type": "execute_result"
    },
    {
     "data": {
      "image/png": "[encoded data removed]",
      "text/plain": [
       "<Figure size 360x360 with 1 Axes>"
      ]
     },
     "metadata": {},
     "output_type": "display_data"
    }
   ],
   "source": [
    "plt.figure(figsize = (5,5))\n",
    "labels = df.Channel.value_counts().keys()\n",
    "plt.pie(df.Channel.value_counts(), autopct=\"%.1f%%\",explode=[0.05,0.05],labels=labels,textprops={'fontsize': 14})\n",
    "plt.legend()\n",
    "plt.legend(loc='upper right')"
   ]
  },
  {
   "cell_type": "markdown",
   "id": "2967138d",
   "metadata": {},
   "source": [
    "# 1.1 Use methods of descriptive statistics to summarize data. Which Region and which Channel spent the most? Which Region and which Channel spent the least?"
   ]
  },
  {
   "cell_type": "code",
   "execution_count": 227,
   "id": "899a7ce8",
   "metadata": {},
   "outputs": [
    {
     "data": {
      "text/html": [
       "<div>\n",
       "<style scoped>\n",
       "    .dataframe tbody tr th:only-of-type {\n",
       "        vertical-align: middle;\n",
       "    }\n",
       "\n",
       "    .dataframe tbody tr th {\n",
       "        vertical-align: top;\n",
       "    }\n",
       "\n",
       "    .dataframe thead th {\n",
       "        text-align: right;\n",
       "    }\n",
       "</style>\n",
       "<table border=\"1\" class=\"dataframe\">\n",
       "  <thead>\n",
       "    <tr style=\"text-align: right;\">\n",
       "      <th></th>\n",
       "      <th>count</th>\n",
       "      <th>unique</th>\n",
       "      <th>top</th>\n",
       "      <th>freq</th>\n",
       "      <th>mean</th>\n",
       "      <th>std</th>\n",
       "      <th>min</th>\n",
       "      <th>25%</th>\n",
       "      <th>50%</th>\n",
       "      <th>75%</th>\n",
       "      <th>max</th>\n",
       "    </tr>\n",
       "  </thead>\n",
       "  <tbody>\n",
       "    <tr>\n",
       "      <th>Buyer/Spender</th>\n",
       "      <td>440.0</td>\n",
       "      <td>NaN</td>\n",
       "      <td>NaN</td>\n",
       "      <td>NaN</td>\n",
       "      <td>220.5</td>\n",
       "      <td>127.161315</td>\n",
       "      <td>1.0</td>\n",
       "      <td>110.75</td>\n",
       "      <td>220.5</td>\n",
       "      <td>330.25</td>\n",
       "      <td>440.0</td>\n",
       "    </tr>\n",
       "    <tr>\n",
       "      <th>Channel</th>\n",
       "      <td>440</td>\n",
       "      <td>2</td>\n",
       "      <td>Hotel</td>\n",
       "      <td>298</td>\n",
       "      <td>NaN</td>\n",
       "      <td>NaN</td>\n",
       "      <td>NaN</td>\n",
       "      <td>NaN</td>\n",
       "      <td>NaN</td>\n",
       "      <td>NaN</td>\n",
       "      <td>NaN</td>\n",
       "    </tr>\n",
       "    <tr>\n",
       "      <th>Region</th>\n",
       "      <td>440</td>\n",
       "      <td>3</td>\n",
       "      <td>Other</td>\n",
       "      <td>316</td>\n",
       "      <td>NaN</td>\n",
       "      <td>NaN</td>\n",
       "      <td>NaN</td>\n",
       "      <td>NaN</td>\n",
       "      <td>NaN</td>\n",
       "      <td>NaN</td>\n",
       "      <td>NaN</td>\n",
       "    </tr>\n",
       "    <tr>\n",
       "      <th>Fresh</th>\n",
       "      <td>440.0</td>\n",
       "      <td>NaN</td>\n",
       "      <td>NaN</td>\n",
       "      <td>NaN</td>\n",
       "      <td>12000.297727</td>\n",
       "      <td>12647.328865</td>\n",
       "      <td>3.0</td>\n",
       "      <td>3127.75</td>\n",
       "      <td>8504.0</td>\n",
       "      <td>16933.75</td>\n",
       "      <td>112151.0</td>\n",
       "    </tr>\n",
       "    <tr>\n",
       "      <th>Milk</th>\n",
       "      <td>440.0</td>\n",
       "      <td>NaN</td>\n",
       "      <td>NaN</td>\n",
       "      <td>NaN</td>\n",
       "      <td>5796.265909</td>\n",
       "      <td>7380.377175</td>\n",
       "      <td>55.0</td>\n",
       "      <td>1533.0</td>\n",
       "      <td>3627.0</td>\n",
       "      <td>7190.25</td>\n",
       "      <td>73498.0</td>\n",
       "    </tr>\n",
       "    <tr>\n",
       "      <th>Grocery</th>\n",
       "      <td>440.0</td>\n",
       "      <td>NaN</td>\n",
       "      <td>NaN</td>\n",
       "      <td>NaN</td>\n",
       "      <td>7951.277273</td>\n",
       "      <td>9503.162829</td>\n",
       "      <td>3.0</td>\n",
       "      <td>2153.0</td>\n",
       "      <td>4755.5</td>\n",
       "      <td>10655.75</td>\n",
       "      <td>92780.0</td>\n",
       "    </tr>\n",
       "    <tr>\n",
       "      <th>Frozen</th>\n",
       "      <td>440.0</td>\n",
       "      <td>NaN</td>\n",
       "      <td>NaN</td>\n",
       "      <td>NaN</td>\n",
       "      <td>3071.931818</td>\n",
       "      <td>4854.673333</td>\n",
       "      <td>25.0</td>\n",
       "      <td>742.25</td>\n",
       "      <td>1526.0</td>\n",
       "      <td>3554.25</td>\n",
       "      <td>60869.0</td>\n",
       "    </tr>\n",
       "    <tr>\n",
       "      <th>Detergents_Paper</th>\n",
       "      <td>440.0</td>\n",
       "      <td>NaN</td>\n",
       "      <td>NaN</td>\n",
       "      <td>NaN</td>\n",
       "      <td>2881.493182</td>\n",
       "      <td>4767.854448</td>\n",
       "      <td>3.0</td>\n",
       "      <td>256.75</td>\n",
       "      <td>816.5</td>\n",
       "      <td>3922.0</td>\n",
       "      <td>40827.0</td>\n",
       "    </tr>\n",
       "    <tr>\n",
       "      <th>Delicatessen</th>\n",
       "      <td>440.0</td>\n",
       "      <td>NaN</td>\n",
       "      <td>NaN</td>\n",
       "      <td>NaN</td>\n",
       "      <td>1524.870455</td>\n",
       "      <td>2820.105937</td>\n",
       "      <td>3.0</td>\n",
       "      <td>408.25</td>\n",
       "      <td>965.5</td>\n",
       "      <td>1820.25</td>\n",
       "      <td>47943.0</td>\n",
       "    </tr>\n",
       "  </tbody>\n",
       "</table>\n",
       "</div>"
      ],
      "text/plain": [
       "                  count unique    top freq          mean           std   min  \\\n",
       "Buyer/Spender     440.0    NaN    NaN  NaN         220.5    127.161315   1.0   \n",
       "Channel             440      2  Hotel  298           NaN           NaN   NaN   \n",
       "Region              440      3  Other  316           NaN           NaN   NaN   \n",
       "Fresh             440.0    NaN    NaN  NaN  12000.297727  12647.328865   3.0   \n",
       "Milk              440.0    NaN    NaN  NaN   5796.265909   7380.377175  55.0   \n",
       "Grocery           440.0    NaN    NaN  NaN   7951.277273   9503.162829   3.0   \n",
       "Frozen            440.0    NaN    NaN  NaN   3071.931818   4854.673333  25.0   \n",
       "Detergents_Paper  440.0    NaN    NaN  NaN   2881.493182   4767.854448   3.0   \n",
       "Delicatessen      440.0    NaN    NaN  NaN   1524.870455   2820.105937   3.0   \n",
       "\n",
       "                      25%     50%       75%       max  \n",
       "Buyer/Spender      110.75   220.5    330.25     440.0  \n",
       "Channel               NaN     NaN       NaN       NaN  \n",
       "Region                NaN     NaN       NaN       NaN  \n",
       "Fresh             3127.75  8504.0  16933.75  112151.0  \n",
       "Milk               1533.0  3627.0   7190.25   73498.0  \n",
       "Grocery            2153.0  4755.5  10655.75   92780.0  \n",
       "Frozen             742.25  1526.0   3554.25   60869.0  \n",
       "Detergents_Paper   256.75   816.5    3922.0   40827.0  \n",
       "Delicatessen       408.25   965.5   1820.25   47943.0  "
      ]
     },
     "execution_count": 227,
     "metadata": {},
     "output_type": "execute_result"
    }
   ],
   "source": [
    "df.describe(include='all').T"
   ]
  },
  {
   "cell_type": "code",
   "execution_count": 4,
   "id": "b47cc4ec",
   "metadata": {},
   "outputs": [
    {
     "data": {
      "text/html": [
       "<div>\n",
       "<style scoped>\n",
       "    .dataframe tbody tr th:only-of-type {\n",
       "        vertical-align: middle;\n",
       "    }\n",
       "\n",
       "    .dataframe tbody tr th {\n",
       "        vertical-align: top;\n",
       "    }\n",
       "\n",
       "    .dataframe thead th {\n",
       "        text-align: right;\n",
       "    }\n",
       "</style>\n",
       "<table border=\"1\" class=\"dataframe\">\n",
       "  <thead>\n",
       "    <tr style=\"text-align: right;\">\n",
       "      <th></th>\n",
       "      <th>Buyer/Spender</th>\n",
       "      <th>Channel</th>\n",
       "      <th>Region</th>\n",
       "      <th>Fresh</th>\n",
       "      <th>Milk</th>\n",
       "      <th>Grocery</th>\n",
       "      <th>Frozen</th>\n",
       "      <th>Detergents_Paper</th>\n",
       "      <th>Delicatessen</th>\n",
       "      <th>Total_sum</th>\n",
       "    </tr>\n",
       "  </thead>\n",
       "  <tbody>\n",
       "    <tr>\n",
       "      <th>0</th>\n",
       "      <td>1</td>\n",
       "      <td>Retail</td>\n",
       "      <td>Other</td>\n",
       "      <td>12669</td>\n",
       "      <td>9656</td>\n",
       "      <td>7561</td>\n",
       "      <td>214</td>\n",
       "      <td>2674</td>\n",
       "      <td>1338</td>\n",
       "      <td>34112</td>\n",
       "    </tr>\n",
       "    <tr>\n",
       "      <th>1</th>\n",
       "      <td>2</td>\n",
       "      <td>Retail</td>\n",
       "      <td>Other</td>\n",
       "      <td>7057</td>\n",
       "      <td>9810</td>\n",
       "      <td>9568</td>\n",
       "      <td>1762</td>\n",
       "      <td>3293</td>\n",
       "      <td>1776</td>\n",
       "      <td>33266</td>\n",
       "    </tr>\n",
       "    <tr>\n",
       "      <th>2</th>\n",
       "      <td>3</td>\n",
       "      <td>Retail</td>\n",
       "      <td>Other</td>\n",
       "      <td>6353</td>\n",
       "      <td>8808</td>\n",
       "      <td>7684</td>\n",
       "      <td>2405</td>\n",
       "      <td>3516</td>\n",
       "      <td>7844</td>\n",
       "      <td>36610</td>\n",
       "    </tr>\n",
       "    <tr>\n",
       "      <th>3</th>\n",
       "      <td>4</td>\n",
       "      <td>Hotel</td>\n",
       "      <td>Other</td>\n",
       "      <td>13265</td>\n",
       "      <td>1196</td>\n",
       "      <td>4221</td>\n",
       "      <td>6404</td>\n",
       "      <td>507</td>\n",
       "      <td>1788</td>\n",
       "      <td>27381</td>\n",
       "    </tr>\n",
       "    <tr>\n",
       "      <th>4</th>\n",
       "      <td>5</td>\n",
       "      <td>Retail</td>\n",
       "      <td>Other</td>\n",
       "      <td>22615</td>\n",
       "      <td>5410</td>\n",
       "      <td>7198</td>\n",
       "      <td>3915</td>\n",
       "      <td>1777</td>\n",
       "      <td>5185</td>\n",
       "      <td>46100</td>\n",
       "    </tr>\n",
       "    <tr>\n",
       "      <th>...</th>\n",
       "      <td>...</td>\n",
       "      <td>...</td>\n",
       "      <td>...</td>\n",
       "      <td>...</td>\n",
       "      <td>...</td>\n",
       "      <td>...</td>\n",
       "      <td>...</td>\n",
       "      <td>...</td>\n",
       "      <td>...</td>\n",
       "      <td>...</td>\n",
       "    </tr>\n",
       "    <tr>\n",
       "      <th>435</th>\n",
       "      <td>436</td>\n",
       "      <td>Hotel</td>\n",
       "      <td>Other</td>\n",
       "      <td>29703</td>\n",
       "      <td>12051</td>\n",
       "      <td>16027</td>\n",
       "      <td>13135</td>\n",
       "      <td>182</td>\n",
       "      <td>2204</td>\n",
       "      <td>73302</td>\n",
       "    </tr>\n",
       "    <tr>\n",
       "      <th>436</th>\n",
       "      <td>437</td>\n",
       "      <td>Hotel</td>\n",
       "      <td>Other</td>\n",
       "      <td>39228</td>\n",
       "      <td>1431</td>\n",
       "      <td>764</td>\n",
       "      <td>4510</td>\n",
       "      <td>93</td>\n",
       "      <td>2346</td>\n",
       "      <td>48372</td>\n",
       "    </tr>\n",
       "    <tr>\n",
       "      <th>437</th>\n",
       "      <td>438</td>\n",
       "      <td>Retail</td>\n",
       "      <td>Other</td>\n",
       "      <td>14531</td>\n",
       "      <td>15488</td>\n",
       "      <td>30243</td>\n",
       "      <td>437</td>\n",
       "      <td>14841</td>\n",
       "      <td>1867</td>\n",
       "      <td>77407</td>\n",
       "    </tr>\n",
       "    <tr>\n",
       "      <th>438</th>\n",
       "      <td>439</td>\n",
       "      <td>Hotel</td>\n",
       "      <td>Other</td>\n",
       "      <td>10290</td>\n",
       "      <td>1981</td>\n",
       "      <td>2232</td>\n",
       "      <td>1038</td>\n",
       "      <td>168</td>\n",
       "      <td>2125</td>\n",
       "      <td>17834</td>\n",
       "    </tr>\n",
       "    <tr>\n",
       "      <th>439</th>\n",
       "      <td>440</td>\n",
       "      <td>Hotel</td>\n",
       "      <td>Other</td>\n",
       "      <td>2787</td>\n",
       "      <td>1698</td>\n",
       "      <td>2510</td>\n",
       "      <td>65</td>\n",
       "      <td>477</td>\n",
       "      <td>52</td>\n",
       "      <td>7589</td>\n",
       "    </tr>\n",
       "  </tbody>\n",
       "</table>\n",
       "<p>440 rows × 10 columns</p>\n",
       "</div>"
      ],
      "text/plain": [
       "     Buyer/Spender Channel Region  Fresh   Milk  Grocery  Frozen  \\\n",
       "0                1  Retail  Other  12669   9656     7561     214   \n",
       "1                2  Retail  Other   7057   9810     9568    1762   \n",
       "2                3  Retail  Other   6353   8808     7684    2405   \n",
       "3                4   Hotel  Other  13265   1196     4221    6404   \n",
       "4                5  Retail  Other  22615   5410     7198    3915   \n",
       "..             ...     ...    ...    ...    ...      ...     ...   \n",
       "435            436   Hotel  Other  29703  12051    16027   13135   \n",
       "436            437   Hotel  Other  39228   1431      764    4510   \n",
       "437            438  Retail  Other  14531  15488    30243     437   \n",
       "438            439   Hotel  Other  10290   1981     2232    1038   \n",
       "439            440   Hotel  Other   2787   1698     2510      65   \n",
       "\n",
       "     Detergents_Paper  Delicatessen  Total_sum  \n",
       "0                2674          1338      34112  \n",
       "1                3293          1776      33266  \n",
       "2                3516          7844      36610  \n",
       "3                 507          1788      27381  \n",
       "4                1777          5185      46100  \n",
       "..                ...           ...        ...  \n",
       "435               182          2204      73302  \n",
       "436                93          2346      48372  \n",
       "437             14841          1867      77407  \n",
       "438               168          2125      17834  \n",
       "439               477            52       7589  \n",
       "\n",
       "[440 rows x 10 columns]"
      ]
     },
     "execution_count": 4,
     "metadata": {},
     "output_type": "execute_result"
    }
   ],
   "source": [
    "# Calculating the total spending across the Regions and Channels:\n",
    "\n",
    "Spending= df[df.columns[:df.columns.size]]\n",
    "Spending['Total_sum']=df['Fresh']+df['Milk']+df['Grocery']+df['Frozen']+df['Detergents_Paper']+df['Delicatessen']\n",
    "Spending"
   ]
  },
  {
   "cell_type": "code",
   "execution_count": 100,
   "id": "8c641bbc",
   "metadata": {},
   "outputs": [
    {
     "name": "stdout",
     "output_type": "stream",
     "text": [
      "Region  Channel\n",
      "Lisbon  Hotel      1538342\n",
      "        Retail      848471\n",
      "Oporto  Hotel       719150\n",
      "        Retail      835938\n",
      "Other   Hotel      5742077\n",
      "        Retail     4935522\n",
      "Name: Total_sum, dtype: int64\n"
     ]
    }
   ],
   "source": [
    "region_channel_df = Spending.groupby(['Region','Channel'])['Total_sum'].sum()\n",
    "print(region_channel_df)"
   ]
  },
  {
   "cell_type": "code",
   "execution_count": 101,
   "id": "af32b6b4",
   "metadata": {},
   "outputs": [
    {
     "data": {
      "text/plain": [
       "Text(0.5, 1.0, 'Total Spending')"
      ]
     },
     "execution_count": 101,
     "metadata": {},
     "output_type": "execute_result"
    },
    {
     "data": {
      "image/png": "[encoded data removed]",
      "text/plain": [
       "<Figure size 504x504 with 1 Axes>"
      ]
     },
     "metadata": {
      "needs_background": "light"
     },
     "output_type": "display_data"
    }
   ],
   "source": [
    "region_channel_df.plot(kind='bar',figsize = (7,7),color='r')\n",
    "plt.tick_params(labelsize=15, pad=5);\n",
    "plt.xlabel('Region_Channel', fontsize=15)\n",
    "plt.ylabel('Spending', fontsize=15)\n",
    "plt.title(\"Total Spending\", fontsize =15)"
   ]
  },
  {
   "cell_type": "code",
   "execution_count": 103,
   "id": "3587f9af",
   "metadata": {
    "scrolled": true
   },
   "outputs": [
    {
     "data": {
      "text/html": [
       "<div>\n",
       "<style scoped>\n",
       "    .dataframe tbody tr th:only-of-type {\n",
       "        vertical-align: middle;\n",
       "    }\n",
       "\n",
       "    .dataframe tbody tr th {\n",
       "        vertical-align: top;\n",
       "    }\n",
       "\n",
       "    .dataframe thead th {\n",
       "        text-align: right;\n",
       "    }\n",
       "</style>\n",
       "<table border=\"1\" class=\"dataframe\">\n",
       "  <thead>\n",
       "    <tr style=\"text-align: right;\">\n",
       "      <th></th>\n",
       "      <th>Fresh</th>\n",
       "      <th>Milk</th>\n",
       "      <th>Grocery</th>\n",
       "      <th>Frozen</th>\n",
       "      <th>Detergents_Paper</th>\n",
       "      <th>Delicatessen</th>\n",
       "    </tr>\n",
       "    <tr>\n",
       "      <th>Region</th>\n",
       "      <th></th>\n",
       "      <th></th>\n",
       "      <th></th>\n",
       "      <th></th>\n",
       "      <th></th>\n",
       "      <th></th>\n",
       "    </tr>\n",
       "  </thead>\n",
       "  <tbody>\n",
       "    <tr>\n",
       "      <th>Lisbon</th>\n",
       "      <td>854833</td>\n",
       "      <td>422454</td>\n",
       "      <td>570037</td>\n",
       "      <td>231026</td>\n",
       "      <td>204136</td>\n",
       "      <td>104327</td>\n",
       "    </tr>\n",
       "    <tr>\n",
       "      <th>Oporto</th>\n",
       "      <td>464721</td>\n",
       "      <td>239144</td>\n",
       "      <td>433274</td>\n",
       "      <td>190132</td>\n",
       "      <td>173311</td>\n",
       "      <td>54506</td>\n",
       "    </tr>\n",
       "    <tr>\n",
       "      <th>Other</th>\n",
       "      <td>3960577</td>\n",
       "      <td>1888759</td>\n",
       "      <td>2495251</td>\n",
       "      <td>930492</td>\n",
       "      <td>890410</td>\n",
       "      <td>512110</td>\n",
       "    </tr>\n",
       "  </tbody>\n",
       "</table>\n",
       "</div>"
      ],
      "text/plain": [
       "          Fresh     Milk  Grocery  Frozen  Detergents_Paper  Delicatessen\n",
       "Region                                                                   \n",
       "Lisbon   854833   422454   570037  231026            204136        104327\n",
       "Oporto   464721   239144   433274  190132            173311         54506\n",
       "Other   3960577  1888759  2495251  930492            890410        512110"
      ]
     },
     "execution_count": 103,
     "metadata": {},
     "output_type": "execute_result"
    }
   ],
   "source": [
    "df_Region=df.groupby('Region').sum()\n",
    "df_Region"
   ]
  },
  {
   "cell_type": "code",
   "execution_count": 173,
   "id": "2e2893bc",
   "metadata": {},
   "outputs": [
    {
     "data": {
      "text/plain": [
       "<matplotlib.legend.Legend at 0x28bddd1e610>"
      ]
     },
     "execution_count": 173,
     "metadata": {},
     "output_type": "execute_result"
    },
    {
     "data": {
      "image/png": "[encoded data removed]",
      "text/plain": [
       "<Figure size 504x360 with 1 Axes>"
      ]
     },
     "metadata": {},
     "output_type": "display_data"
    }
   ],
   "source": [
    "sns.set_style(\"darkgrid\")\n",
    "\n",
    "df_Region.plot(kind='bar',figsize = (7,5));\n",
    "plt.tick_params(labelsize=15, pad=5);\n",
    "\n",
    "plt.ylabel('Spending',fontsize=15)\n",
    "plt.xlabel('Region', fontsize=15)\n",
    "plt.legend(prop={\"size\":13})"
   ]
  },
  {
   "cell_type": "code",
   "execution_count": 105,
   "id": "4f0e092f",
   "metadata": {},
   "outputs": [
    {
     "name": "stdout",
     "output_type": "stream",
     "text": [
      "Region\n",
      "Lisbon     2386813\n",
      "Oporto     1555088\n",
      "Other     10677599\n",
      "Name: Total_sum, dtype: int64\n"
     ]
    }
   ],
   "source": [
    "print(Spending.groupby('Region')['Total_sum'].sum())\n"
   ]
  },
  {
   "cell_type": "code",
   "execution_count": 106,
   "id": "56f5dee0",
   "metadata": {},
   "outputs": [
    {
     "data": {
      "text/html": [
       "<div>\n",
       "<style scoped>\n",
       "    .dataframe tbody tr th:only-of-type {\n",
       "        vertical-align: middle;\n",
       "    }\n",
       "\n",
       "    .dataframe tbody tr th {\n",
       "        vertical-align: top;\n",
       "    }\n",
       "\n",
       "    .dataframe thead th {\n",
       "        text-align: right;\n",
       "    }\n",
       "</style>\n",
       "<table border=\"1\" class=\"dataframe\">\n",
       "  <thead>\n",
       "    <tr style=\"text-align: right;\">\n",
       "      <th></th>\n",
       "      <th>Fresh</th>\n",
       "      <th>Milk</th>\n",
       "      <th>Grocery</th>\n",
       "      <th>Frozen</th>\n",
       "      <th>Detergents_Paper</th>\n",
       "      <th>Delicatessen</th>\n",
       "    </tr>\n",
       "    <tr>\n",
       "      <th>Channel</th>\n",
       "      <th></th>\n",
       "      <th></th>\n",
       "      <th></th>\n",
       "      <th></th>\n",
       "      <th></th>\n",
       "      <th></th>\n",
       "    </tr>\n",
       "  </thead>\n",
       "  <tbody>\n",
       "    <tr>\n",
       "      <th>Hotel</th>\n",
       "      <td>4015717</td>\n",
       "      <td>1028614</td>\n",
       "      <td>1180717</td>\n",
       "      <td>1116979</td>\n",
       "      <td>235587</td>\n",
       "      <td>421955</td>\n",
       "    </tr>\n",
       "    <tr>\n",
       "      <th>Retail</th>\n",
       "      <td>1264414</td>\n",
       "      <td>1521743</td>\n",
       "      <td>2317845</td>\n",
       "      <td>234671</td>\n",
       "      <td>1032270</td>\n",
       "      <td>248988</td>\n",
       "    </tr>\n",
       "  </tbody>\n",
       "</table>\n",
       "</div>"
      ],
      "text/plain": [
       "           Fresh     Milk  Grocery   Frozen  Detergents_Paper  Delicatessen\n",
       "Channel                                                                    \n",
       "Hotel    4015717  1028614  1180717  1116979            235587        421955\n",
       "Retail   1264414  1521743  2317845   234671           1032270        248988"
      ]
     },
     "execution_count": 106,
     "metadata": {},
     "output_type": "execute_result"
    }
   ],
   "source": [
    "df_channel=df.groupby('Channel').sum()\n",
    "df_channel"
   ]
  },
  {
   "cell_type": "code",
   "execution_count": 107,
   "id": "065eeefb",
   "metadata": {},
   "outputs": [
    {
     "data": {
      "text/plain": [
       "<matplotlib.legend.Legend at 0x28bde3bdb50>"
      ]
     },
     "execution_count": 107,
     "metadata": {},
     "output_type": "execute_result"
    },
    {
     "data": {
      "image/png": "[encoded data removed]",
      "text/plain": [
       "<Figure size 504x360 with 1 Axes>"
      ]
     },
     "metadata": {},
     "output_type": "display_data"
    }
   ],
   "source": [
    "sns.set_style(\"darkgrid\")\n",
    "\n",
    "df_channel.plot(kind='bar',figsize = (7,5));\n",
    "plt.tick_params(labelsize=15, pad=5);\n",
    "\n",
    "plt.ylabel('Spending',fontsize=15)\n",
    "plt.xlabel('Channel', fontsize=15)\n",
    "plt.legend(prop={\"size\":13})"
   ]
  },
  {
   "cell_type": "code",
   "execution_count": 108,
   "id": "a972f1a1",
   "metadata": {},
   "outputs": [
    {
     "name": "stdout",
     "output_type": "stream",
     "text": [
      "Channel\n",
      "Hotel     7999569\n",
      "Retail    6619931\n",
      "Name: Total_sum, dtype: int64\n"
     ]
    }
   ],
   "source": [
    "print(Spending.groupby('Channel')['Total_sum'].sum())"
   ]
  },
  {
   "cell_type": "markdown",
   "id": "0841771e",
   "metadata": {},
   "source": [
    "# 1.2 There are 6 different varieties of items that are considered. Describe and comment/explain all the varieties across Region and Channel? Provide a detailed justification for your answer."
   ]
  },
  {
   "cell_type": "code",
   "execution_count": 109,
   "id": "24106013",
   "metadata": {},
   "outputs": [
    {
     "data": {
      "image/png": "[encoded data removed]",
      "text/plain": [
       "<Figure size 864x720 with 6 Axes>"
      ]
     },
     "metadata": {},
     "output_type": "display_data"
    }
   ],
   "source": [
    "plt.style.use('ggplot')\n",
    "fig=plt.figure(figsize=(10,7))\n",
    "fig.subplots_adjust(hspace=0.8, wspace=0.8)\n",
    "\n",
    "table1 = pd.pivot_table(df,index=['Region'],columns=['Channel'],values=['Fresh'],aggfunc=np.sum)\n",
    "table2 = pd.pivot_table(df,index=['Region'],columns=['Channel'],values=['Milk'],aggfunc=np.sum)\n",
    "table3 = pd.pivot_table(df,index=['Region'],columns=['Channel'],values=['Grocery'],aggfunc=np.sum)\n",
    "table4 = pd.pivot_table(df,index=['Region'],columns=['Channel'],values=['Frozen'],aggfunc=np.sum)\n",
    "table5 = pd.pivot_table(df,index=['Region'],columns=['Channel'],values=['Detergents_Paper'],aggfunc=np.sum)\n",
    "table6 = pd.pivot_table(df,index=['Region'],columns=['Channel'],values=['Delicatessen'],aggfunc=np.sum)\n",
    "\n",
    "ax = plt.subplot(\"231\")\n",
    "table1.plot(kind='bar',figsize=(10,10),ax=ax)\n",
    "ax.set_title('Fresh',fontsize=15)\n",
    "plt.xlabel('Region', fontsize=12)\n",
    "plt.tick_params(labelsize=15, pad=5);\n",
    "plt.legend(prop={\"size\":12})\n",
    "\n",
    "ax = plt.subplot(\"232\")\n",
    "table2.plot(kind='bar',figsize=(12,10),ax=ax)\n",
    "ax.set_title('Milk',fontsize=15)\n",
    "plt.xlabel('Region', fontsize=12)\n",
    "plt.tick_params(labelsize=15, pad=5);\n",
    "plt.legend(prop={\"size\":12})\n",
    "\n",
    "ax = plt.subplot(\"233\")\n",
    "table3.plot(kind='bar',figsize=(12,10),ax=ax)\n",
    "ax.set_title('Grocery',fontsize=15)\n",
    "plt.xlabel('Region', fontsize=12)\n",
    "plt.tick_params(labelsize=15, pad=5);\n",
    "plt.legend(prop={\"size\":12})\n",
    "\n",
    "ax = plt.subplot(\"234\")\n",
    "table4.plot(kind='bar',figsize=(12,10),ax=ax)\n",
    "ax.set_title('Frozen',fontsize=15)\n",
    "plt.xlabel('Region', fontsize=12)\n",
    "plt.tick_params(labelsize=15, pad=5);\n",
    "plt.legend(prop={\"size\":12})\n",
    "\n",
    "ax = plt.subplot(\"235\")\n",
    "table5.plot(kind='bar',figsize=(12,10),ax=ax)\n",
    "ax.set_title('Detergents_Paper',fontsize=15)\n",
    "plt.xlabel('Region', fontsize=12)\n",
    "plt.tick_params(labelsize=15, pad=5);\n",
    "plt.legend(prop={\"size\":11},loc='upper left')\n",
    " \n",
    "ax = plt.subplot(\"236\")\n",
    "table6.plot(kind='bar',figsize=(12,10),ax=ax)\n",
    "ax.set_title('Delicatessen',fontsize=15)\n",
    "plt.xlabel('Region', fontsize=12)\n",
    "plt.tick_params(labelsize=15, pad=5);\n",
    "plt.legend(prop={\"size\":11},loc=\"upper left\")\n",
    "\n",
    "   \n",
    "fig.tight_layout()"
   ]
  },
  {
   "cell_type": "markdown",
   "id": "93666b5b",
   "metadata": {},
   "source": [
    "# 1.3 On the basis of a descriptive measure of variability, which item shows the most inconsistent behaviour? Which items show the least inconsistent behaviour?"
   ]
  },
  {
   "cell_type": "code",
   "execution_count": 110,
   "id": "b4d0553a",
   "metadata": {},
   "outputs": [
    {
     "data": {
      "text/html": [
       "<div>\n",
       "<style scoped>\n",
       "    .dataframe tbody tr th:only-of-type {\n",
       "        vertical-align: middle;\n",
       "    }\n",
       "\n",
       "    .dataframe tbody tr th {\n",
       "        vertical-align: top;\n",
       "    }\n",
       "\n",
       "    .dataframe thead th {\n",
       "        text-align: right;\n",
       "    }\n",
       "</style>\n",
       "<table border=\"1\" class=\"dataframe\">\n",
       "  <thead>\n",
       "    <tr style=\"text-align: right;\">\n",
       "      <th></th>\n",
       "      <th>items</th>\n",
       "      <th>count</th>\n",
       "      <th>mean</th>\n",
       "      <th>std</th>\n",
       "      <th>min</th>\n",
       "      <th>25%</th>\n",
       "      <th>50%</th>\n",
       "      <th>75%</th>\n",
       "      <th>max</th>\n",
       "    </tr>\n",
       "  </thead>\n",
       "  <tbody>\n",
       "    <tr>\n",
       "      <th>0</th>\n",
       "      <td>Fresh</td>\n",
       "      <td>440.0</td>\n",
       "      <td>12000.297727</td>\n",
       "      <td>12647.328865</td>\n",
       "      <td>3.0</td>\n",
       "      <td>3127.75</td>\n",
       "      <td>8504.0</td>\n",
       "      <td>16933.75</td>\n",
       "      <td>112151.0</td>\n",
       "    </tr>\n",
       "    <tr>\n",
       "      <th>1</th>\n",
       "      <td>Milk</td>\n",
       "      <td>440.0</td>\n",
       "      <td>5796.265909</td>\n",
       "      <td>7380.377175</td>\n",
       "      <td>55.0</td>\n",
       "      <td>1533.00</td>\n",
       "      <td>3627.0</td>\n",
       "      <td>7190.25</td>\n",
       "      <td>73498.0</td>\n",
       "    </tr>\n",
       "    <tr>\n",
       "      <th>2</th>\n",
       "      <td>Grocery</td>\n",
       "      <td>440.0</td>\n",
       "      <td>7951.277273</td>\n",
       "      <td>9503.162829</td>\n",
       "      <td>3.0</td>\n",
       "      <td>2153.00</td>\n",
       "      <td>4755.5</td>\n",
       "      <td>10655.75</td>\n",
       "      <td>92780.0</td>\n",
       "    </tr>\n",
       "    <tr>\n",
       "      <th>3</th>\n",
       "      <td>Frozen</td>\n",
       "      <td>440.0</td>\n",
       "      <td>3071.931818</td>\n",
       "      <td>4854.673333</td>\n",
       "      <td>25.0</td>\n",
       "      <td>742.25</td>\n",
       "      <td>1526.0</td>\n",
       "      <td>3554.25</td>\n",
       "      <td>60869.0</td>\n",
       "    </tr>\n",
       "    <tr>\n",
       "      <th>4</th>\n",
       "      <td>Detergents_Paper</td>\n",
       "      <td>440.0</td>\n",
       "      <td>2881.493182</td>\n",
       "      <td>4767.854448</td>\n",
       "      <td>3.0</td>\n",
       "      <td>256.75</td>\n",
       "      <td>816.5</td>\n",
       "      <td>3922.00</td>\n",
       "      <td>40827.0</td>\n",
       "    </tr>\n",
       "    <tr>\n",
       "      <th>5</th>\n",
       "      <td>Delicatessen</td>\n",
       "      <td>440.0</td>\n",
       "      <td>1524.870455</td>\n",
       "      <td>2820.105937</td>\n",
       "      <td>3.0</td>\n",
       "      <td>408.25</td>\n",
       "      <td>965.5</td>\n",
       "      <td>1820.25</td>\n",
       "      <td>47943.0</td>\n",
       "    </tr>\n",
       "  </tbody>\n",
       "</table>\n",
       "</div>"
      ],
      "text/plain": [
       "              items  count          mean           std   min      25%     50%  \\\n",
       "0             Fresh  440.0  12000.297727  12647.328865   3.0  3127.75  8504.0   \n",
       "1              Milk  440.0   5796.265909   7380.377175  55.0  1533.00  3627.0   \n",
       "2           Grocery  440.0   7951.277273   9503.162829   3.0  2153.00  4755.5   \n",
       "3            Frozen  440.0   3071.931818   4854.673333  25.0   742.25  1526.0   \n",
       "4  Detergents_Paper  440.0   2881.493182   4767.854448   3.0   256.75   816.5   \n",
       "5      Delicatessen  440.0   1524.870455   2820.105937   3.0   408.25   965.5   \n",
       "\n",
       "        75%       max  \n",
       "0  16933.75  112151.0  \n",
       "1   7190.25   73498.0  \n",
       "2  10655.75   92780.0  \n",
       "3   3554.25   60869.0  \n",
       "4   3922.00   40827.0  \n",
       "5   1820.25   47943.0  "
      ]
     },
     "execution_count": 110,
     "metadata": {},
     "output_type": "execute_result"
    }
   ],
   "source": [
    "df1=df.describe().T\n",
    "df1= df1.reset_index().rename(columns={'index': 'items'})\n",
    "df1"
   ]
  },
  {
   "cell_type": "code",
   "execution_count": 223,
   "id": "718411cc",
   "metadata": {},
   "outputs": [
    {
     "data": {
      "text/html": [
       "<div>\n",
       "<style scoped>\n",
       "    .dataframe tbody tr th:only-of-type {\n",
       "        vertical-align: middle;\n",
       "    }\n",
       "\n",
       "    .dataframe tbody tr th {\n",
       "        vertical-align: top;\n",
       "    }\n",
       "\n",
       "    .dataframe thead th {\n",
       "        text-align: right;\n",
       "    }\n",
       "</style>\n",
       "<table border=\"1\" class=\"dataframe\">\n",
       "  <thead>\n",
       "    <tr style=\"text-align: right;\">\n",
       "      <th></th>\n",
       "      <th>items</th>\n",
       "      <th>count</th>\n",
       "      <th>mean</th>\n",
       "      <th>std</th>\n",
       "      <th>min</th>\n",
       "      <th>25%</th>\n",
       "      <th>50%</th>\n",
       "      <th>75%</th>\n",
       "      <th>max</th>\n",
       "      <th>cov</th>\n",
       "    </tr>\n",
       "  </thead>\n",
       "  <tbody>\n",
       "    <tr>\n",
       "      <th>0</th>\n",
       "      <td>Fresh</td>\n",
       "      <td>440.0</td>\n",
       "      <td>12000.297727</td>\n",
       "      <td>12647.328865</td>\n",
       "      <td>3.0</td>\n",
       "      <td>3127.75</td>\n",
       "      <td>8504.0</td>\n",
       "      <td>16933.75</td>\n",
       "      <td>112151.0</td>\n",
       "      <td>1.052720</td>\n",
       "    </tr>\n",
       "    <tr>\n",
       "      <th>1</th>\n",
       "      <td>Milk</td>\n",
       "      <td>440.0</td>\n",
       "      <td>5796.265909</td>\n",
       "      <td>7380.377175</td>\n",
       "      <td>55.0</td>\n",
       "      <td>1533.00</td>\n",
       "      <td>3627.0</td>\n",
       "      <td>7190.25</td>\n",
       "      <td>73498.0</td>\n",
       "      <td>1.271851</td>\n",
       "    </tr>\n",
       "    <tr>\n",
       "      <th>2</th>\n",
       "      <td>Grocery</td>\n",
       "      <td>440.0</td>\n",
       "      <td>7951.277273</td>\n",
       "      <td>9503.162829</td>\n",
       "      <td>3.0</td>\n",
       "      <td>2153.00</td>\n",
       "      <td>4755.5</td>\n",
       "      <td>10655.75</td>\n",
       "      <td>92780.0</td>\n",
       "      <td>1.193815</td>\n",
       "    </tr>\n",
       "    <tr>\n",
       "      <th>3</th>\n",
       "      <td>Frozen</td>\n",
       "      <td>440.0</td>\n",
       "      <td>3071.931818</td>\n",
       "      <td>4854.673333</td>\n",
       "      <td>25.0</td>\n",
       "      <td>742.25</td>\n",
       "      <td>1526.0</td>\n",
       "      <td>3554.25</td>\n",
       "      <td>60869.0</td>\n",
       "      <td>1.578536</td>\n",
       "    </tr>\n",
       "    <tr>\n",
       "      <th>4</th>\n",
       "      <td>Detergents_Paper</td>\n",
       "      <td>440.0</td>\n",
       "      <td>2881.493182</td>\n",
       "      <td>4767.854448</td>\n",
       "      <td>3.0</td>\n",
       "      <td>256.75</td>\n",
       "      <td>816.5</td>\n",
       "      <td>3922.00</td>\n",
       "      <td>40827.0</td>\n",
       "      <td>1.652766</td>\n",
       "    </tr>\n",
       "    <tr>\n",
       "      <th>5</th>\n",
       "      <td>Delicatessen</td>\n",
       "      <td>440.0</td>\n",
       "      <td>1524.870455</td>\n",
       "      <td>2820.105937</td>\n",
       "      <td>3.0</td>\n",
       "      <td>408.25</td>\n",
       "      <td>965.5</td>\n",
       "      <td>1820.25</td>\n",
       "      <td>47943.0</td>\n",
       "      <td>1.847304</td>\n",
       "    </tr>\n",
       "  </tbody>\n",
       "</table>\n",
       "</div>"
      ],
      "text/plain": [
       "              items  count          mean           std   min      25%     50%  \\\n",
       "0             Fresh  440.0  12000.297727  12647.328865   3.0  3127.75  8504.0   \n",
       "1              Milk  440.0   5796.265909   7380.377175  55.0  1533.00  3627.0   \n",
       "2           Grocery  440.0   7951.277273   9503.162829   3.0  2153.00  4755.5   \n",
       "3            Frozen  440.0   3071.931818   4854.673333  25.0   742.25  1526.0   \n",
       "4  Detergents_Paper  440.0   2881.493182   4767.854448   3.0   256.75   816.5   \n",
       "5      Delicatessen  440.0   1524.870455   2820.105937   3.0   408.25   965.5   \n",
       "\n",
       "        75%       max       cov  \n",
       "0  16933.75  112151.0  1.052720  \n",
       "1   7190.25   73498.0  1.271851  \n",
       "2  10655.75   92780.0  1.193815  \n",
       "3   3554.25   60869.0  1.578536  \n",
       "4   3922.00   40827.0  1.652766  \n",
       "5   1820.25   47943.0  1.847304  "
      ]
     },
     "execution_count": 223,
     "metadata": {},
     "output_type": "execute_result"
    }
   ],
   "source": [
    "from scipy.stats import variation\n",
    "df1['cov']=variation(products, axis = 0)\n",
    "df1"
   ]
  },
  {
   "cell_type": "code",
   "execution_count": 224,
   "id": "9ce3c430",
   "metadata": {},
   "outputs": [
    {
     "name": "stderr",
     "output_type": "stream",
     "text": [
      "No handles with labels found to put in legend.\n"
     ]
    },
    {
     "data": {
      "text/plain": [
       "<matplotlib.legend.Legend at 0x28be0ea69a0>"
      ]
     },
     "execution_count": 224,
     "metadata": {},
     "output_type": "execute_result"
    },
    {
     "data": {
      "image/png": "[encoded data removed]",
      "text/plain": [
       "<Figure size 720x504 with 1 Axes>"
      ]
     },
     "metadata": {
      "needs_background": "light"
     },
     "output_type": "display_data"
    }
   ],
   "source": [
    "plt.figure(figsize=(10,7))\n",
    "\n",
    "sns.barplot(x='items',y='cov',data=df1)\n",
    "plt.tick_params(labelsize=15, pad=5);\n",
    "\n",
    "plt.ylabel('Coefficient of variations',fontsize=15)\n",
    "plt.xticks(rotation = 90)\n",
    "plt.xlabel('Items', fontsize=15)\n",
    "plt.title('Consistency of items',fontsize=15)\n",
    "plt.legend(prop={\"size\":13})"
   ]
  },
  {
   "cell_type": "markdown",
   "id": "b6ecb2b8",
   "metadata": {},
   "source": [
    "# 1.4 Are there any outliers in the data? Back up your answer with a suitable plot/technique with the help of detailed comments."
   ]
  },
  {
   "cell_type": "code",
   "execution_count": 114,
   "id": "1ea51a4d",
   "metadata": {},
   "outputs": [
    {
     "data": {
      "image/png": "[encoded data removed]",
      "text/plain": [
       "<Figure size 864x720 with 1 Axes>"
      ]
     },
     "metadata": {},
     "output_type": "display_data"
    }
   ],
   "source": [
    "plt.figure(figsize=(12,10))\n",
    "plt.title('Outliers in Categories',fontsize=20)\n",
    "sns.boxplot(data=products, orient=\"h\", palette=\"Set2\")\n",
    "plt.tick_params(labelsize=20, pad=6);"
   ]
  },
  {
   "cell_type": "markdown",
   "id": "18d64c93",
   "metadata": {},
   "source": [
    "# Problem 2:\n",
    "The Student News Service at Clear Mountain State University (CMSU) has decided to gather data about the undergraduate students that attend CMSU. CMSU creates and distributes a survey of 14 questions and receives responses from 62 undergraduates (stored in the Survey data set)."
   ]
  },
  {
   "cell_type": "code",
   "execution_count": 115,
   "id": "2033bee7",
   "metadata": {},
   "outputs": [],
   "source": [
    "p= pd.read_csv('Survey-1.csv')"
   ]
  },
  {
   "cell_type": "code",
   "execution_count": 116,
   "id": "1d9b3324",
   "metadata": {},
   "outputs": [
    {
     "data": {
      "text/html": [
       "<div>\n",
       "<style scoped>\n",
       "    .dataframe tbody tr th:only-of-type {\n",
       "        vertical-align: middle;\n",
       "    }\n",
       "\n",
       "    .dataframe tbody tr th {\n",
       "        vertical-align: top;\n",
       "    }\n",
       "\n",
       "    .dataframe thead th {\n",
       "        text-align: right;\n",
       "    }\n",
       "</style>\n",
       "<table border=\"1\" class=\"dataframe\">\n",
       "  <thead>\n",
       "    <tr style=\"text-align: right;\">\n",
       "      <th></th>\n",
       "      <th>ID</th>\n",
       "      <th>Gender</th>\n",
       "      <th>Age</th>\n",
       "      <th>Class</th>\n",
       "      <th>Major</th>\n",
       "      <th>Grad Intention</th>\n",
       "      <th>GPA</th>\n",
       "      <th>Employment</th>\n",
       "      <th>Salary</th>\n",
       "      <th>Social Networking</th>\n",
       "      <th>Satisfaction</th>\n",
       "      <th>Spending</th>\n",
       "      <th>Computer</th>\n",
       "      <th>Text Messages</th>\n",
       "    </tr>\n",
       "  </thead>\n",
       "  <tbody>\n",
       "    <tr>\n",
       "      <th>0</th>\n",
       "      <td>1</td>\n",
       "      <td>Female</td>\n",
       "      <td>20</td>\n",
       "      <td>Junior</td>\n",
       "      <td>Other</td>\n",
       "      <td>Yes</td>\n",
       "      <td>2.9</td>\n",
       "      <td>Full-Time</td>\n",
       "      <td>50.0</td>\n",
       "      <td>1</td>\n",
       "      <td>3</td>\n",
       "      <td>350</td>\n",
       "      <td>Laptop</td>\n",
       "      <td>200</td>\n",
       "    </tr>\n",
       "    <tr>\n",
       "      <th>1</th>\n",
       "      <td>2</td>\n",
       "      <td>Male</td>\n",
       "      <td>23</td>\n",
       "      <td>Senior</td>\n",
       "      <td>Management</td>\n",
       "      <td>Yes</td>\n",
       "      <td>3.6</td>\n",
       "      <td>Part-Time</td>\n",
       "      <td>25.0</td>\n",
       "      <td>1</td>\n",
       "      <td>4</td>\n",
       "      <td>360</td>\n",
       "      <td>Laptop</td>\n",
       "      <td>50</td>\n",
       "    </tr>\n",
       "    <tr>\n",
       "      <th>2</th>\n",
       "      <td>3</td>\n",
       "      <td>Male</td>\n",
       "      <td>21</td>\n",
       "      <td>Junior</td>\n",
       "      <td>Other</td>\n",
       "      <td>Yes</td>\n",
       "      <td>2.5</td>\n",
       "      <td>Part-Time</td>\n",
       "      <td>45.0</td>\n",
       "      <td>2</td>\n",
       "      <td>4</td>\n",
       "      <td>600</td>\n",
       "      <td>Laptop</td>\n",
       "      <td>200</td>\n",
       "    </tr>\n",
       "    <tr>\n",
       "      <th>3</th>\n",
       "      <td>4</td>\n",
       "      <td>Male</td>\n",
       "      <td>21</td>\n",
       "      <td>Junior</td>\n",
       "      <td>CIS</td>\n",
       "      <td>Yes</td>\n",
       "      <td>2.5</td>\n",
       "      <td>Full-Time</td>\n",
       "      <td>40.0</td>\n",
       "      <td>4</td>\n",
       "      <td>6</td>\n",
       "      <td>600</td>\n",
       "      <td>Laptop</td>\n",
       "      <td>250</td>\n",
       "    </tr>\n",
       "    <tr>\n",
       "      <th>4</th>\n",
       "      <td>5</td>\n",
       "      <td>Male</td>\n",
       "      <td>23</td>\n",
       "      <td>Senior</td>\n",
       "      <td>Other</td>\n",
       "      <td>Undecided</td>\n",
       "      <td>2.8</td>\n",
       "      <td>Unemployed</td>\n",
       "      <td>40.0</td>\n",
       "      <td>2</td>\n",
       "      <td>4</td>\n",
       "      <td>500</td>\n",
       "      <td>Laptop</td>\n",
       "      <td>100</td>\n",
       "    </tr>\n",
       "    <tr>\n",
       "      <th>5</th>\n",
       "      <td>6</td>\n",
       "      <td>Female</td>\n",
       "      <td>22</td>\n",
       "      <td>Senior</td>\n",
       "      <td>Economics/Finance</td>\n",
       "      <td>Undecided</td>\n",
       "      <td>2.3</td>\n",
       "      <td>Unemployed</td>\n",
       "      <td>78.0</td>\n",
       "      <td>3</td>\n",
       "      <td>2</td>\n",
       "      <td>700</td>\n",
       "      <td>Laptop</td>\n",
       "      <td>30</td>\n",
       "    </tr>\n",
       "    <tr>\n",
       "      <th>6</th>\n",
       "      <td>7</td>\n",
       "      <td>Female</td>\n",
       "      <td>21</td>\n",
       "      <td>Junior</td>\n",
       "      <td>Other</td>\n",
       "      <td>Undecided</td>\n",
       "      <td>3.0</td>\n",
       "      <td>Part-Time</td>\n",
       "      <td>50.0</td>\n",
       "      <td>1</td>\n",
       "      <td>3</td>\n",
       "      <td>500</td>\n",
       "      <td>Laptop</td>\n",
       "      <td>50</td>\n",
       "    </tr>\n",
       "    <tr>\n",
       "      <th>7</th>\n",
       "      <td>8</td>\n",
       "      <td>Female</td>\n",
       "      <td>22</td>\n",
       "      <td>Senior</td>\n",
       "      <td>Other</td>\n",
       "      <td>Undecided</td>\n",
       "      <td>3.1</td>\n",
       "      <td>Full-Time</td>\n",
       "      <td>80.0</td>\n",
       "      <td>1</td>\n",
       "      <td>2</td>\n",
       "      <td>200</td>\n",
       "      <td>Tablet</td>\n",
       "      <td>300</td>\n",
       "    </tr>\n",
       "    <tr>\n",
       "      <th>8</th>\n",
       "      <td>9</td>\n",
       "      <td>Female</td>\n",
       "      <td>20</td>\n",
       "      <td>Junior</td>\n",
       "      <td>Management</td>\n",
       "      <td>Yes</td>\n",
       "      <td>3.6</td>\n",
       "      <td>Unemployed</td>\n",
       "      <td>30.0</td>\n",
       "      <td>0</td>\n",
       "      <td>4</td>\n",
       "      <td>500</td>\n",
       "      <td>Laptop</td>\n",
       "      <td>400</td>\n",
       "    </tr>\n",
       "    <tr>\n",
       "      <th>9</th>\n",
       "      <td>10</td>\n",
       "      <td>Female</td>\n",
       "      <td>21</td>\n",
       "      <td>Senior</td>\n",
       "      <td>Economics/Finance</td>\n",
       "      <td>Undecided</td>\n",
       "      <td>3.3</td>\n",
       "      <td>Part-Time</td>\n",
       "      <td>37.5</td>\n",
       "      <td>1</td>\n",
       "      <td>4</td>\n",
       "      <td>200</td>\n",
       "      <td>Laptop</td>\n",
       "      <td>100</td>\n",
       "    </tr>\n",
       "  </tbody>\n",
       "</table>\n",
       "</div>"
      ],
      "text/plain": [
       "   ID  Gender  Age   Class              Major Grad Intention  GPA  Employment  \\\n",
       "0   1  Female   20  Junior              Other            Yes  2.9   Full-Time   \n",
       "1   2    Male   23  Senior         Management            Yes  3.6   Part-Time   \n",
       "2   3    Male   21  Junior              Other            Yes  2.5   Part-Time   \n",
       "3   4    Male   21  Junior                CIS            Yes  2.5   Full-Time   \n",
       "4   5    Male   23  Senior              Other      Undecided  2.8  Unemployed   \n",
       "5   6  Female   22  Senior  Economics/Finance      Undecided  2.3  Unemployed   \n",
       "6   7  Female   21  Junior              Other      Undecided  3.0   Part-Time   \n",
       "7   8  Female   22  Senior              Other      Undecided  3.1   Full-Time   \n",
       "8   9  Female   20  Junior         Management            Yes  3.6  Unemployed   \n",
       "9  10  Female   21  Senior  Economics/Finance      Undecided  3.3   Part-Time   \n",
       "\n",
       "   Salary  Social Networking  Satisfaction  Spending Computer  Text Messages  \n",
       "0    50.0                  1             3       350   Laptop            200  \n",
       "1    25.0                  1             4       360   Laptop             50  \n",
       "2    45.0                  2             4       600   Laptop            200  \n",
       "3    40.0                  4             6       600   Laptop            250  \n",
       "4    40.0                  2             4       500   Laptop            100  \n",
       "5    78.0                  3             2       700   Laptop             30  \n",
       "6    50.0                  1             3       500   Laptop             50  \n",
       "7    80.0                  1             2       200   Tablet            300  \n",
       "8    30.0                  0             4       500   Laptop            400  \n",
       "9    37.5                  1             4       200   Laptop            100  "
      ]
     },
     "execution_count": 116,
     "metadata": {},
     "output_type": "execute_result"
    }
   ],
   "source": [
    "p.head(10)"
   ]
  },
  {
   "cell_type": "markdown",
   "id": "c3e9ed3c",
   "metadata": {},
   "source": [
    "# 2.1.1. Gender and Major"
   ]
  },
  {
   "cell_type": "code",
   "execution_count": 117,
   "id": "ec06a923",
   "metadata": {},
   "outputs": [
    {
     "data": {
      "text/html": [
       "<div>\n",
       "<style scoped>\n",
       "    .dataframe tbody tr th:only-of-type {\n",
       "        vertical-align: middle;\n",
       "    }\n",
       "\n",
       "    .dataframe tbody tr th {\n",
       "        vertical-align: top;\n",
       "    }\n",
       "\n",
       "    .dataframe thead th {\n",
       "        text-align: right;\n",
       "    }\n",
       "</style>\n",
       "<table border=\"1\" class=\"dataframe\">\n",
       "  <thead>\n",
       "    <tr style=\"text-align: right;\">\n",
       "      <th>Major</th>\n",
       "      <th>Accounting</th>\n",
       "      <th>CIS</th>\n",
       "      <th>Economics/Finance</th>\n",
       "      <th>International Business</th>\n",
       "      <th>Management</th>\n",
       "      <th>Other</th>\n",
       "      <th>Retailing/Marketing</th>\n",
       "      <th>Undecided</th>\n",
       "      <th>Total</th>\n",
       "    </tr>\n",
       "    <tr>\n",
       "      <th>Gender</th>\n",
       "      <th></th>\n",
       "      <th></th>\n",
       "      <th></th>\n",
       "      <th></th>\n",
       "      <th></th>\n",
       "      <th></th>\n",
       "      <th></th>\n",
       "      <th></th>\n",
       "      <th></th>\n",
       "    </tr>\n",
       "  </thead>\n",
       "  <tbody>\n",
       "    <tr>\n",
       "      <th>Female</th>\n",
       "      <td>3</td>\n",
       "      <td>3</td>\n",
       "      <td>7</td>\n",
       "      <td>4</td>\n",
       "      <td>4</td>\n",
       "      <td>3</td>\n",
       "      <td>9</td>\n",
       "      <td>0</td>\n",
       "      <td>33</td>\n",
       "    </tr>\n",
       "    <tr>\n",
       "      <th>Male</th>\n",
       "      <td>4</td>\n",
       "      <td>1</td>\n",
       "      <td>4</td>\n",
       "      <td>2</td>\n",
       "      <td>6</td>\n",
       "      <td>4</td>\n",
       "      <td>5</td>\n",
       "      <td>3</td>\n",
       "      <td>29</td>\n",
       "    </tr>\n",
       "    <tr>\n",
       "      <th>Total</th>\n",
       "      <td>7</td>\n",
       "      <td>4</td>\n",
       "      <td>11</td>\n",
       "      <td>6</td>\n",
       "      <td>10</td>\n",
       "      <td>7</td>\n",
       "      <td>14</td>\n",
       "      <td>3</td>\n",
       "      <td>62</td>\n",
       "    </tr>\n",
       "  </tbody>\n",
       "</table>\n",
       "</div>"
      ],
      "text/plain": [
       "Major   Accounting  CIS  Economics/Finance  International Business  \\\n",
       "Gender                                                               \n",
       "Female           3    3                  7                       4   \n",
       "Male             4    1                  4                       2   \n",
       "Total            7    4                 11                       6   \n",
       "\n",
       "Major   Management  Other  Retailing/Marketing  Undecided  Total  \n",
       "Gender                                                            \n",
       "Female           4      3                    9          0     33  \n",
       "Male             6      4                    5          3     29  \n",
       "Total           10      7                   14          3     62  "
      ]
     },
     "execution_count": 117,
     "metadata": {},
     "output_type": "execute_result"
    }
   ],
   "source": [
    "pd.crosstab(p['Gender'],p['Major'],margins=True,margins_name=\"Total\")"
   ]
  },
  {
   "cell_type": "markdown",
   "id": "dc551340",
   "metadata": {},
   "source": [
    "# 2.1.2. Gender and Grad Intention"
   ]
  },
  {
   "cell_type": "code",
   "execution_count": 118,
   "id": "e071fb74",
   "metadata": {},
   "outputs": [
    {
     "data": {
      "text/html": [
       "<div>\n",
       "<style scoped>\n",
       "    .dataframe tbody tr th:only-of-type {\n",
       "        vertical-align: middle;\n",
       "    }\n",
       "\n",
       "    .dataframe tbody tr th {\n",
       "        vertical-align: top;\n",
       "    }\n",
       "\n",
       "    .dataframe thead th {\n",
       "        text-align: right;\n",
       "    }\n",
       "</style>\n",
       "<table border=\"1\" class=\"dataframe\">\n",
       "  <thead>\n",
       "    <tr style=\"text-align: right;\">\n",
       "      <th>Grad Intention</th>\n",
       "      <th>No</th>\n",
       "      <th>Undecided</th>\n",
       "      <th>Yes</th>\n",
       "      <th>Total</th>\n",
       "    </tr>\n",
       "    <tr>\n",
       "      <th>Gender</th>\n",
       "      <th></th>\n",
       "      <th></th>\n",
       "      <th></th>\n",
       "      <th></th>\n",
       "    </tr>\n",
       "  </thead>\n",
       "  <tbody>\n",
       "    <tr>\n",
       "      <th>Female</th>\n",
       "      <td>9</td>\n",
       "      <td>13</td>\n",
       "      <td>11</td>\n",
       "      <td>33</td>\n",
       "    </tr>\n",
       "    <tr>\n",
       "      <th>Male</th>\n",
       "      <td>3</td>\n",
       "      <td>9</td>\n",
       "      <td>17</td>\n",
       "      <td>29</td>\n",
       "    </tr>\n",
       "    <tr>\n",
       "      <th>Total</th>\n",
       "      <td>12</td>\n",
       "      <td>22</td>\n",
       "      <td>28</td>\n",
       "      <td>62</td>\n",
       "    </tr>\n",
       "  </tbody>\n",
       "</table>\n",
       "</div>"
      ],
      "text/plain": [
       "Grad Intention  No  Undecided  Yes  Total\n",
       "Gender                                   \n",
       "Female           9         13   11     33\n",
       "Male             3          9   17     29\n",
       "Total           12         22   28     62"
      ]
     },
     "execution_count": 118,
     "metadata": {},
     "output_type": "execute_result"
    }
   ],
   "source": [
    "pd.crosstab(p['Gender'],p['Grad Intention'],margins=True,margins_name=\"Total\")"
   ]
  },
  {
   "cell_type": "markdown",
   "id": "2e2f48a4",
   "metadata": {},
   "source": [
    "# 2.1.3. Gender and Employment"
   ]
  },
  {
   "cell_type": "code",
   "execution_count": 119,
   "id": "b167d1fe",
   "metadata": {},
   "outputs": [
    {
     "data": {
      "text/html": [
       "<div>\n",
       "<style scoped>\n",
       "    .dataframe tbody tr th:only-of-type {\n",
       "        vertical-align: middle;\n",
       "    }\n",
       "\n",
       "    .dataframe tbody tr th {\n",
       "        vertical-align: top;\n",
       "    }\n",
       "\n",
       "    .dataframe thead th {\n",
       "        text-align: right;\n",
       "    }\n",
       "</style>\n",
       "<table border=\"1\" class=\"dataframe\">\n",
       "  <thead>\n",
       "    <tr style=\"text-align: right;\">\n",
       "      <th>Employment</th>\n",
       "      <th>Full-Time</th>\n",
       "      <th>Part-Time</th>\n",
       "      <th>Unemployed</th>\n",
       "      <th>Total</th>\n",
       "    </tr>\n",
       "    <tr>\n",
       "      <th>Gender</th>\n",
       "      <th></th>\n",
       "      <th></th>\n",
       "      <th></th>\n",
       "      <th></th>\n",
       "    </tr>\n",
       "  </thead>\n",
       "  <tbody>\n",
       "    <tr>\n",
       "      <th>Female</th>\n",
       "      <td>3</td>\n",
       "      <td>24</td>\n",
       "      <td>6</td>\n",
       "      <td>33</td>\n",
       "    </tr>\n",
       "    <tr>\n",
       "      <th>Male</th>\n",
       "      <td>7</td>\n",
       "      <td>19</td>\n",
       "      <td>3</td>\n",
       "      <td>29</td>\n",
       "    </tr>\n",
       "    <tr>\n",
       "      <th>Total</th>\n",
       "      <td>10</td>\n",
       "      <td>43</td>\n",
       "      <td>9</td>\n",
       "      <td>62</td>\n",
       "    </tr>\n",
       "  </tbody>\n",
       "</table>\n",
       "</div>"
      ],
      "text/plain": [
       "Employment  Full-Time  Part-Time  Unemployed  Total\n",
       "Gender                                             \n",
       "Female              3         24           6     33\n",
       "Male                7         19           3     29\n",
       "Total              10         43           9     62"
      ]
     },
     "execution_count": 119,
     "metadata": {},
     "output_type": "execute_result"
    }
   ],
   "source": [
    "pd.crosstab(p['Gender'],p['Employment'],margins=True,margins_name=\"Total\")"
   ]
  },
  {
   "cell_type": "markdown",
   "id": "f1c31e7c",
   "metadata": {},
   "source": [
    "# 2.1.4. Gender and Computer"
   ]
  },
  {
   "cell_type": "code",
   "execution_count": 120,
   "id": "d674b164",
   "metadata": {},
   "outputs": [
    {
     "data": {
      "text/html": [
       "<div>\n",
       "<style scoped>\n",
       "    .dataframe tbody tr th:only-of-type {\n",
       "        vertical-align: middle;\n",
       "    }\n",
       "\n",
       "    .dataframe tbody tr th {\n",
       "        vertical-align: top;\n",
       "    }\n",
       "\n",
       "    .dataframe thead th {\n",
       "        text-align: right;\n",
       "    }\n",
       "</style>\n",
       "<table border=\"1\" class=\"dataframe\">\n",
       "  <thead>\n",
       "    <tr style=\"text-align: right;\">\n",
       "      <th>Computer</th>\n",
       "      <th>Desktop</th>\n",
       "      <th>Laptop</th>\n",
       "      <th>Tablet</th>\n",
       "      <th>Total</th>\n",
       "    </tr>\n",
       "    <tr>\n",
       "      <th>Gender</th>\n",
       "      <th></th>\n",
       "      <th></th>\n",
       "      <th></th>\n",
       "      <th></th>\n",
       "    </tr>\n",
       "  </thead>\n",
       "  <tbody>\n",
       "    <tr>\n",
       "      <th>Female</th>\n",
       "      <td>2</td>\n",
       "      <td>29</td>\n",
       "      <td>2</td>\n",
       "      <td>33</td>\n",
       "    </tr>\n",
       "    <tr>\n",
       "      <th>Male</th>\n",
       "      <td>3</td>\n",
       "      <td>26</td>\n",
       "      <td>0</td>\n",
       "      <td>29</td>\n",
       "    </tr>\n",
       "    <tr>\n",
       "      <th>Total</th>\n",
       "      <td>5</td>\n",
       "      <td>55</td>\n",
       "      <td>2</td>\n",
       "      <td>62</td>\n",
       "    </tr>\n",
       "  </tbody>\n",
       "</table>\n",
       "</div>"
      ],
      "text/plain": [
       "Computer  Desktop  Laptop  Tablet  Total\n",
       "Gender                                  \n",
       "Female          2      29       2     33\n",
       "Male            3      26       0     29\n",
       "Total           5      55       2     62"
      ]
     },
     "execution_count": 120,
     "metadata": {},
     "output_type": "execute_result"
    }
   ],
   "source": [
    "pd.crosstab(p['Gender'],p['Computer'],margins=True,margins_name=\"Total\")"
   ]
  },
  {
   "cell_type": "markdown",
   "id": "3cec7374",
   "metadata": {},
   "source": [
    "# 2.2. Assume that the sample is representative of the population of CMSU. Based on the data, answer the following question:\n",
    "\n"
   ]
  },
  {
   "cell_type": "markdown",
   "id": "c1f71dad",
   "metadata": {},
   "source": [
    "# 2.2.1. What is the probability that a randomly selected CMSU student will be male?"
   ]
  },
  {
   "cell_type": "code",
   "execution_count": 121,
   "id": "7a7a9d4e",
   "metadata": {},
   "outputs": [
    {
     "data": {
      "text/plain": [
       "62"
      ]
     },
     "execution_count": 121,
     "metadata": {},
     "output_type": "execute_result"
    }
   ],
   "source": [
    "p.Gender.count()"
   ]
  },
  {
   "cell_type": "code",
   "execution_count": 122,
   "id": "0e1554a4",
   "metadata": {},
   "outputs": [
    {
     "data": {
      "text/plain": [
       "Female    33\n",
       "Male      29\n",
       "Name: Gender, dtype: int64"
      ]
     },
     "execution_count": 122,
     "metadata": {},
     "output_type": "execute_result"
    }
   ],
   "source": [
    "p.Gender.value_counts()"
   ]
  },
  {
   "cell_type": "code",
   "execution_count": 123,
   "id": "8456a723",
   "metadata": {},
   "outputs": [
    {
     "name": "stdout",
     "output_type": "stream",
     "text": [
      "Probability that a randomly selected CMSU student will be male is 46.77%.\n"
     ]
    }
   ],
   "source": [
    "prob_males= round(p.Gender.value_counts()[1]/p.Gender.count(),4)*100\n",
    "print('Probability that a randomly selected CMSU student will be male is %1.2f' % prob_males +'%.')\n"
   ]
  },
  {
   "cell_type": "markdown",
   "id": "50433093",
   "metadata": {},
   "source": [
    "# 2.2.2. What is the probability that a randomly selected CMSU student will be female?"
   ]
  },
  {
   "cell_type": "code",
   "execution_count": 124,
   "id": "a8655b29",
   "metadata": {},
   "outputs": [
    {
     "name": "stdout",
     "output_type": "stream",
     "text": [
      "Probability that a randomly selected CMSU student will be female is 53.23%.\n"
     ]
    }
   ],
   "source": [
    "prob_females= round(p.Gender.value_counts()[0]/p.Gender.count(),4)*100\n",
    "print('Probability that a randomly selected CMSU student will be female is %1.2f' % prob_females +'%.')"
   ]
  },
  {
   "cell_type": "markdown",
   "id": "55eb35cf",
   "metadata": {},
   "source": [
    "# 2.3. Assume that the sample is representative of the population of CMSU. Based on the data, answer the following question:"
   ]
  },
  {
   "cell_type": "markdown",
   "id": "85807c2a",
   "metadata": {},
   "source": [
    "# 2.3.1. Find the conditional probability of different majors among the male students in CMSU."
   ]
  },
  {
   "cell_type": "code",
   "execution_count": 125,
   "id": "12e21a58",
   "metadata": {},
   "outputs": [
    {
     "data": {
      "text/html": [
       "<div>\n",
       "<style scoped>\n",
       "    .dataframe tbody tr th:only-of-type {\n",
       "        vertical-align: middle;\n",
       "    }\n",
       "\n",
       "    .dataframe tbody tr th {\n",
       "        vertical-align: top;\n",
       "    }\n",
       "\n",
       "    .dataframe thead th {\n",
       "        text-align: right;\n",
       "    }\n",
       "</style>\n",
       "<table border=\"1\" class=\"dataframe\">\n",
       "  <thead>\n",
       "    <tr style=\"text-align: right;\">\n",
       "      <th>Major</th>\n",
       "      <th>Accounting</th>\n",
       "      <th>CIS</th>\n",
       "      <th>Economics/Finance</th>\n",
       "      <th>International Business</th>\n",
       "      <th>Management</th>\n",
       "      <th>Other</th>\n",
       "      <th>Retailing/Marketing</th>\n",
       "      <th>Undecided</th>\n",
       "      <th>Total</th>\n",
       "    </tr>\n",
       "    <tr>\n",
       "      <th>Gender</th>\n",
       "      <th></th>\n",
       "      <th></th>\n",
       "      <th></th>\n",
       "      <th></th>\n",
       "      <th></th>\n",
       "      <th></th>\n",
       "      <th></th>\n",
       "      <th></th>\n",
       "      <th></th>\n",
       "    </tr>\n",
       "  </thead>\n",
       "  <tbody>\n",
       "    <tr>\n",
       "      <th>Female</th>\n",
       "      <td>3</td>\n",
       "      <td>3</td>\n",
       "      <td>7</td>\n",
       "      <td>4</td>\n",
       "      <td>4</td>\n",
       "      <td>3</td>\n",
       "      <td>9</td>\n",
       "      <td>0</td>\n",
       "      <td>33</td>\n",
       "    </tr>\n",
       "    <tr>\n",
       "      <th>Male</th>\n",
       "      <td>4</td>\n",
       "      <td>1</td>\n",
       "      <td>4</td>\n",
       "      <td>2</td>\n",
       "      <td>6</td>\n",
       "      <td>4</td>\n",
       "      <td>5</td>\n",
       "      <td>3</td>\n",
       "      <td>29</td>\n",
       "    </tr>\n",
       "    <tr>\n",
       "      <th>Total</th>\n",
       "      <td>7</td>\n",
       "      <td>4</td>\n",
       "      <td>11</td>\n",
       "      <td>6</td>\n",
       "      <td>10</td>\n",
       "      <td>7</td>\n",
       "      <td>14</td>\n",
       "      <td>3</td>\n",
       "      <td>62</td>\n",
       "    </tr>\n",
       "  </tbody>\n",
       "</table>\n",
       "</div>"
      ],
      "text/plain": [
       "Major   Accounting  CIS  Economics/Finance  International Business  \\\n",
       "Gender                                                               \n",
       "Female           3    3                  7                       4   \n",
       "Male             4    1                  4                       2   \n",
       "Total            7    4                 11                       6   \n",
       "\n",
       "Major   Management  Other  Retailing/Marketing  Undecided  Total  \n",
       "Gender                                                            \n",
       "Female           4      3                    9          0     33  \n",
       "Male             6      4                    5          3     29  \n",
       "Total           10      7                   14          3     62  "
      ]
     },
     "execution_count": 125,
     "metadata": {},
     "output_type": "execute_result"
    }
   ],
   "source": [
    "pd.crosstab(p['Gender'],p['Major'],margins=True,margins_name=\"Total\")"
   ]
  },
  {
   "cell_type": "code",
   "execution_count": 126,
   "id": "24379cd1",
   "metadata": {},
   "outputs": [],
   "source": [
    "p_acc_m= (4/29)*100\n",
    "p_CIS_m= (1/29)*100\n",
    "p_Economics_Finance_m = (4/29)*100\n",
    "p_International_Business_m = (2/29)*100\n",
    "p_Management_m = (6/29)*100\n",
    "p_Other_m = (4/29)*100\n",
    "p_Retailing_Marketing_m = (5/29)*100\n",
    "p_Undecided_m = (3/29)*100\n"
   ]
  },
  {
   "cell_type": "code",
   "execution_count": 127,
   "id": "15f6eedf",
   "metadata": {},
   "outputs": [
    {
     "name": "stdout",
     "output_type": "stream",
     "text": [
      "Probability of Accounting among the male students is 13.79%\n",
      "Probability of CIS among the male students is 3.45%\n",
      "Probability of Economics/Finance among the male students is 13.79%\n",
      "Probability of International Business among the male students is 6.90%\n",
      "Probability of Management among the male students is 20.69%\n",
      "Probability of Other among the male students  13.79%\n",
      "Probability of Retailing/Marketing among the male students is 17.24%\n",
      "Probability of Undecided among the male students is 10.34%\n"
     ]
    }
   ],
   "source": [
    "print('Probability of Accounting among the male students is %1.2f' % p_acc_m +'%')\n",
    "print('Probability of CIS among the male students is %1.2f' % p_CIS_m +'%')\n",
    "print('Probability of Economics/Finance among the male students is %1.2f' % p_Economics_Finance_m +'%')\n",
    "print('Probability of International Business among the male students is %1.2f' % p_International_Business_m +'%')\n",
    "print('Probability of Management among the male students is %1.2f' % p_Management_m +'%')\n",
    "print('Probability of Other among the male students  %1.2f' % p_Other_m +'%')\n",
    "print('Probability of Retailing/Marketing among the male students is %1.2f' % p_Retailing_Marketing_m +'%')\n",
    "print('Probability of Undecided among the male students is %1.2f' % p_Undecided_m +'%')\n"
   ]
  },
  {
   "cell_type": "markdown",
   "id": "2aba6e63",
   "metadata": {},
   "source": [
    "# 2.3.2 Find the conditional probability of different majors among the female students of CMSU."
   ]
  },
  {
   "cell_type": "code",
   "execution_count": 128,
   "id": "2078834f",
   "metadata": {},
   "outputs": [],
   "source": [
    "p_acc_f= (3/29)*100\n",
    "p_CIS_f= (3/29)*100\n",
    "p_Economics_Finance_f = (7/29)*100\n",
    "p_International_Business_f = (4/29)*100\n",
    "p_Management_f= (4/29)*100\n",
    "p_Other_f= (3/29)*100\n",
    "p_Retailing_Marketing_f= (9/29)*100\n",
    "p_Undecided_f = (0/29)*100"
   ]
  },
  {
   "cell_type": "code",
   "execution_count": 129,
   "id": "a98aebfc",
   "metadata": {},
   "outputs": [
    {
     "name": "stdout",
     "output_type": "stream",
     "text": [
      "Probability of Accounting among the female students is 10.34%\n",
      "Probability of CIS among the female students is 10.34%\n",
      "Probability of Economics/Finance among the female students is 24.14%\n",
      "Probability of International Business among the female students is 13.79%\n",
      "Probability of Management among the female students is 13.79%\n",
      "Probability of Other among the female students  10.34%\n",
      "Probability of Retailing/Marketing among the female students is 31.03%\n",
      "Probability of Undecided among the female students is 0.00%\n"
     ]
    }
   ],
   "source": [
    "print('Probability of Accounting among the female students is %1.2f' % p_acc_f +'%')\n",
    "print('Probability of CIS among the female students is %1.2f' % p_CIS_f +'%')\n",
    "print('Probability of Economics/Finance among the female students is %1.2f' % p_Economics_Finance_f +'%')\n",
    "print('Probability of International Business among the female students is %1.2f' % p_International_Business_f +'%')\n",
    "print('Probability of Management among the female students is %1.2f' % p_Management_f +'%')\n",
    "print('Probability of Other among the female students  %1.2f' % p_Other_f +'%')\n",
    "print('Probability of Retailing/Marketing among the female students is %1.2f' % p_Retailing_Marketing_f +'%')\n",
    "print('Probability of Undecided among the female students is %1.2f' % p_Undecided_f +'%')\n"
   ]
  },
  {
   "cell_type": "markdown",
   "id": "99baad4a",
   "metadata": {},
   "source": [
    "# 2.4. Assume that the sample is a representative of the population of CMSU. Based on the data, answer the following question:"
   ]
  },
  {
   "cell_type": "markdown",
   "id": "f4ff7b6b",
   "metadata": {},
   "source": [
    "# 2.4.1. Find the probability That a randomly chosen student is a male and intends to graduate."
   ]
  },
  {
   "cell_type": "code",
   "execution_count": 130,
   "id": "49ad6c30",
   "metadata": {},
   "outputs": [
    {
     "data": {
      "text/html": [
       "<div>\n",
       "<style scoped>\n",
       "    .dataframe tbody tr th:only-of-type {\n",
       "        vertical-align: middle;\n",
       "    }\n",
       "\n",
       "    .dataframe tbody tr th {\n",
       "        vertical-align: top;\n",
       "    }\n",
       "\n",
       "    .dataframe thead th {\n",
       "        text-align: right;\n",
       "    }\n",
       "</style>\n",
       "<table border=\"1\" class=\"dataframe\">\n",
       "  <thead>\n",
       "    <tr style=\"text-align: right;\">\n",
       "      <th>Grad Intention</th>\n",
       "      <th>No</th>\n",
       "      <th>Undecided</th>\n",
       "      <th>Yes</th>\n",
       "      <th>Total</th>\n",
       "    </tr>\n",
       "    <tr>\n",
       "      <th>Gender</th>\n",
       "      <th></th>\n",
       "      <th></th>\n",
       "      <th></th>\n",
       "      <th></th>\n",
       "    </tr>\n",
       "  </thead>\n",
       "  <tbody>\n",
       "    <tr>\n",
       "      <th>Female</th>\n",
       "      <td>9</td>\n",
       "      <td>13</td>\n",
       "      <td>11</td>\n",
       "      <td>33</td>\n",
       "    </tr>\n",
       "    <tr>\n",
       "      <th>Male</th>\n",
       "      <td>3</td>\n",
       "      <td>9</td>\n",
       "      <td>17</td>\n",
       "      <td>29</td>\n",
       "    </tr>\n",
       "    <tr>\n",
       "      <th>Total</th>\n",
       "      <td>12</td>\n",
       "      <td>22</td>\n",
       "      <td>28</td>\n",
       "      <td>62</td>\n",
       "    </tr>\n",
       "  </tbody>\n",
       "</table>\n",
       "</div>"
      ],
      "text/plain": [
       "Grad Intention  No  Undecided  Yes  Total\n",
       "Gender                                   \n",
       "Female           9         13   11     33\n",
       "Male             3          9   17     29\n",
       "Total           12         22   28     62"
      ]
     },
     "execution_count": 130,
     "metadata": {},
     "output_type": "execute_result"
    }
   ],
   "source": [
    "pd.crosstab(p['Gender'],p['Grad Intention'],margins=True,margins_name=\"Total\")"
   ]
  },
  {
   "cell_type": "code",
   "execution_count": 131,
   "id": "98068187",
   "metadata": {},
   "outputs": [],
   "source": [
    "p_grad_m= (17/29)\n",
    "p_m= (29/62)"
   ]
  },
  {
   "cell_type": "code",
   "execution_count": 132,
   "id": "444820b1",
   "metadata": {},
   "outputs": [],
   "source": [
    "P_m_g=(p_m*p_grad_m)*100"
   ]
  },
  {
   "cell_type": "code",
   "execution_count": 133,
   "id": "1c398e45",
   "metadata": {},
   "outputs": [
    {
     "name": "stdout",
     "output_type": "stream",
     "text": [
      "Probability a randomly chosen student is a male and intends to graduate 27.42%\n"
     ]
    }
   ],
   "source": [
    "print('Probability a randomly chosen student is a male and intends to graduate %1.2f' % P_m_g +'%')"
   ]
  },
  {
   "cell_type": "markdown",
   "id": "8cc89875",
   "metadata": {},
   "source": [
    "# 2.4.2 Find the probability that a randomly selected student is a female and does NOT have a laptop. "
   ]
  },
  {
   "cell_type": "code",
   "execution_count": 134,
   "id": "bd7785d7",
   "metadata": {},
   "outputs": [
    {
     "data": {
      "text/html": [
       "<div>\n",
       "<style scoped>\n",
       "    .dataframe tbody tr th:only-of-type {\n",
       "        vertical-align: middle;\n",
       "    }\n",
       "\n",
       "    .dataframe tbody tr th {\n",
       "        vertical-align: top;\n",
       "    }\n",
       "\n",
       "    .dataframe thead th {\n",
       "        text-align: right;\n",
       "    }\n",
       "</style>\n",
       "<table border=\"1\" class=\"dataframe\">\n",
       "  <thead>\n",
       "    <tr style=\"text-align: right;\">\n",
       "      <th>Computer</th>\n",
       "      <th>Desktop</th>\n",
       "      <th>Laptop</th>\n",
       "      <th>Tablet</th>\n",
       "      <th>Total</th>\n",
       "    </tr>\n",
       "    <tr>\n",
       "      <th>Gender</th>\n",
       "      <th></th>\n",
       "      <th></th>\n",
       "      <th></th>\n",
       "      <th></th>\n",
       "    </tr>\n",
       "  </thead>\n",
       "  <tbody>\n",
       "    <tr>\n",
       "      <th>Female</th>\n",
       "      <td>2</td>\n",
       "      <td>29</td>\n",
       "      <td>2</td>\n",
       "      <td>33</td>\n",
       "    </tr>\n",
       "    <tr>\n",
       "      <th>Male</th>\n",
       "      <td>3</td>\n",
       "      <td>26</td>\n",
       "      <td>0</td>\n",
       "      <td>29</td>\n",
       "    </tr>\n",
       "    <tr>\n",
       "      <th>Total</th>\n",
       "      <td>5</td>\n",
       "      <td>55</td>\n",
       "      <td>2</td>\n",
       "      <td>62</td>\n",
       "    </tr>\n",
       "  </tbody>\n",
       "</table>\n",
       "</div>"
      ],
      "text/plain": [
       "Computer  Desktop  Laptop  Tablet  Total\n",
       "Gender                                  \n",
       "Female          2      29       2     33\n",
       "Male            3      26       0     29\n",
       "Total           5      55       2     62"
      ]
     },
     "execution_count": 134,
     "metadata": {},
     "output_type": "execute_result"
    }
   ],
   "source": [
    "pd.crosstab(p['Gender'],p['Computer'],margins=True,margins_name=\"Total\")"
   ]
  },
  {
   "cell_type": "code",
   "execution_count": 135,
   "id": "bb210c5d",
   "metadata": {},
   "outputs": [],
   "source": [
    "p_nolap_f= 1- (29/33)\n",
    "p_f= (33/62)"
   ]
  },
  {
   "cell_type": "code",
   "execution_count": 136,
   "id": "037fd972",
   "metadata": {},
   "outputs": [],
   "source": [
    "p_f_nolap= (p_f*p_nolap_f)*100"
   ]
  },
  {
   "cell_type": "code",
   "execution_count": 137,
   "id": "83eba8e0",
   "metadata": {},
   "outputs": [
    {
     "name": "stdout",
     "output_type": "stream",
     "text": [
      "Probability that a randomly selected student is a female and does NOT have a laptop 6.45%\n"
     ]
    }
   ],
   "source": [
    "print('Probability that a randomly selected student is a female and does NOT have a laptop %1.2f' % p_f_nolap +'%')"
   ]
  },
  {
   "cell_type": "markdown",
   "id": "33f688a7",
   "metadata": {},
   "source": [
    "# 2.5. Assume that the sample is representative of the population of CMSU. Based on the data, answer the following question:"
   ]
  },
  {
   "cell_type": "markdown",
   "id": "da2b9661",
   "metadata": {},
   "source": [
    "# 2.5.1. Find the probability that a randomly chosen student is a male or has full-time employment?"
   ]
  },
  {
   "cell_type": "code",
   "execution_count": 138,
   "id": "cba0f776",
   "metadata": {},
   "outputs": [
    {
     "data": {
      "text/html": [
       "<div>\n",
       "<style scoped>\n",
       "    .dataframe tbody tr th:only-of-type {\n",
       "        vertical-align: middle;\n",
       "    }\n",
       "\n",
       "    .dataframe tbody tr th {\n",
       "        vertical-align: top;\n",
       "    }\n",
       "\n",
       "    .dataframe thead th {\n",
       "        text-align: right;\n",
       "    }\n",
       "</style>\n",
       "<table border=\"1\" class=\"dataframe\">\n",
       "  <thead>\n",
       "    <tr style=\"text-align: right;\">\n",
       "      <th>Employment</th>\n",
       "      <th>Full-Time</th>\n",
       "      <th>Part-Time</th>\n",
       "      <th>Unemployed</th>\n",
       "      <th>Total</th>\n",
       "    </tr>\n",
       "    <tr>\n",
       "      <th>Gender</th>\n",
       "      <th></th>\n",
       "      <th></th>\n",
       "      <th></th>\n",
       "      <th></th>\n",
       "    </tr>\n",
       "  </thead>\n",
       "  <tbody>\n",
       "    <tr>\n",
       "      <th>Female</th>\n",
       "      <td>3</td>\n",
       "      <td>24</td>\n",
       "      <td>6</td>\n",
       "      <td>33</td>\n",
       "    </tr>\n",
       "    <tr>\n",
       "      <th>Male</th>\n",
       "      <td>7</td>\n",
       "      <td>19</td>\n",
       "      <td>3</td>\n",
       "      <td>29</td>\n",
       "    </tr>\n",
       "    <tr>\n",
       "      <th>Total</th>\n",
       "      <td>10</td>\n",
       "      <td>43</td>\n",
       "      <td>9</td>\n",
       "      <td>62</td>\n",
       "    </tr>\n",
       "  </tbody>\n",
       "</table>\n",
       "</div>"
      ],
      "text/plain": [
       "Employment  Full-Time  Part-Time  Unemployed  Total\n",
       "Gender                                             \n",
       "Female              3         24           6     33\n",
       "Male                7         19           3     29\n",
       "Total              10         43           9     62"
      ]
     },
     "execution_count": 138,
     "metadata": {},
     "output_type": "execute_result"
    }
   ],
   "source": [
    "pd.crosstab(p['Gender'],p['Employment'],margins=True,margins_name=\"Total\")"
   ]
  },
  {
   "cell_type": "code",
   "execution_count": 139,
   "id": "a0963bd3",
   "metadata": {},
   "outputs": [],
   "source": [
    "p_m= 29/62\n",
    "p_s_fulltime= 10/62\n",
    "p_m_fulltime= 7/62"
   ]
  },
  {
   "cell_type": "code",
   "execution_count": 140,
   "id": "c56f2222",
   "metadata": {},
   "outputs": [
    {
     "data": {
      "text/plain": [
       "51.61290322580645"
      ]
     },
     "execution_count": 140,
     "metadata": {},
     "output_type": "execute_result"
    }
   ],
   "source": [
    "p_m_or_fulltime= (29/62 + 10/62 - 7/62)*100\n",
    "p_m_or_fulltime"
   ]
  },
  {
   "cell_type": "code",
   "execution_count": 141,
   "id": "b036533e",
   "metadata": {},
   "outputs": [
    {
     "name": "stdout",
     "output_type": "stream",
     "text": [
      "Probability that a randomly chosen student is either a male or has full-time employment is 51.61%\n"
     ]
    }
   ],
   "source": [
    "print('Probability that a randomly chosen student is either a male or has full-time employment is %1.2f' % p_m_or_fulltime +'%') "
   ]
  },
  {
   "cell_type": "markdown",
   "id": "645a5b10",
   "metadata": {},
   "source": [
    "# 2.5.2. Find the conditional probability that given a female student is randomly chosen, she is majoring in international business or management."
   ]
  },
  {
   "cell_type": "code",
   "execution_count": 142,
   "id": "680a96d9",
   "metadata": {},
   "outputs": [
    {
     "data": {
      "text/html": [
       "<div>\n",
       "<style scoped>\n",
       "    .dataframe tbody tr th:only-of-type {\n",
       "        vertical-align: middle;\n",
       "    }\n",
       "\n",
       "    .dataframe tbody tr th {\n",
       "        vertical-align: top;\n",
       "    }\n",
       "\n",
       "    .dataframe thead th {\n",
       "        text-align: right;\n",
       "    }\n",
       "</style>\n",
       "<table border=\"1\" class=\"dataframe\">\n",
       "  <thead>\n",
       "    <tr style=\"text-align: right;\">\n",
       "      <th>Major</th>\n",
       "      <th>Accounting</th>\n",
       "      <th>CIS</th>\n",
       "      <th>Economics/Finance</th>\n",
       "      <th>International Business</th>\n",
       "      <th>Management</th>\n",
       "      <th>Other</th>\n",
       "      <th>Retailing/Marketing</th>\n",
       "      <th>Undecided</th>\n",
       "      <th>Total</th>\n",
       "    </tr>\n",
       "    <tr>\n",
       "      <th>Gender</th>\n",
       "      <th></th>\n",
       "      <th></th>\n",
       "      <th></th>\n",
       "      <th></th>\n",
       "      <th></th>\n",
       "      <th></th>\n",
       "      <th></th>\n",
       "      <th></th>\n",
       "      <th></th>\n",
       "    </tr>\n",
       "  </thead>\n",
       "  <tbody>\n",
       "    <tr>\n",
       "      <th>Female</th>\n",
       "      <td>3</td>\n",
       "      <td>3</td>\n",
       "      <td>7</td>\n",
       "      <td>4</td>\n",
       "      <td>4</td>\n",
       "      <td>3</td>\n",
       "      <td>9</td>\n",
       "      <td>0</td>\n",
       "      <td>33</td>\n",
       "    </tr>\n",
       "    <tr>\n",
       "      <th>Male</th>\n",
       "      <td>4</td>\n",
       "      <td>1</td>\n",
       "      <td>4</td>\n",
       "      <td>2</td>\n",
       "      <td>6</td>\n",
       "      <td>4</td>\n",
       "      <td>5</td>\n",
       "      <td>3</td>\n",
       "      <td>29</td>\n",
       "    </tr>\n",
       "    <tr>\n",
       "      <th>Total</th>\n",
       "      <td>7</td>\n",
       "      <td>4</td>\n",
       "      <td>11</td>\n",
       "      <td>6</td>\n",
       "      <td>10</td>\n",
       "      <td>7</td>\n",
       "      <td>14</td>\n",
       "      <td>3</td>\n",
       "      <td>62</td>\n",
       "    </tr>\n",
       "  </tbody>\n",
       "</table>\n",
       "</div>"
      ],
      "text/plain": [
       "Major   Accounting  CIS  Economics/Finance  International Business  \\\n",
       "Gender                                                               \n",
       "Female           3    3                  7                       4   \n",
       "Male             4    1                  4                       2   \n",
       "Total            7    4                 11                       6   \n",
       "\n",
       "Major   Management  Other  Retailing/Marketing  Undecided  Total  \n",
       "Gender                                                            \n",
       "Female           4      3                    9          0     33  \n",
       "Male             6      4                    5          3     29  \n",
       "Total           10      7                   14          3     62  "
      ]
     },
     "execution_count": 142,
     "metadata": {},
     "output_type": "execute_result"
    }
   ],
   "source": [
    "pd.crosstab(p['Gender'],p['Major'],margins=True,margins_name=\"Total\")"
   ]
  },
  {
   "cell_type": "code",
   "execution_count": 143,
   "id": "9a97be50",
   "metadata": {},
   "outputs": [],
   "source": [
    "p_International_Business_f = (4/33)\n",
    "p_Management_f= (4/33)\n",
    "p_int_man= (p_International_Business_f + p_Management_f)*100"
   ]
  },
  {
   "cell_type": "code",
   "execution_count": 144,
   "id": "4016528c",
   "metadata": {},
   "outputs": [
    {
     "name": "stdout",
     "output_type": "stream",
     "text": [
      "Probability of international business or management given Female is 24.24%\n"
     ]
    }
   ],
   "source": [
    "print('Probability of international business or management given Female is %1.2f' % p_int_man +'%')"
   ]
  },
  {
   "cell_type": "markdown",
   "id": "c0bbbad0",
   "metadata": {},
   "source": [
    "# 2.6.  Construct a contingency table of Gender and Intent to Graduate at 2 levels (Yes/No). The Undecided students are not considered now and the table is a 2x2 table. Do you think the graduate intention and being female are independent events?"
   ]
  },
  {
   "cell_type": "code",
   "execution_count": 145,
   "id": "2d98847f",
   "metadata": {},
   "outputs": [
    {
     "data": {
      "text/html": [
       "<div>\n",
       "<style scoped>\n",
       "    .dataframe tbody tr th:only-of-type {\n",
       "        vertical-align: middle;\n",
       "    }\n",
       "\n",
       "    .dataframe tbody tr th {\n",
       "        vertical-align: top;\n",
       "    }\n",
       "\n",
       "    .dataframe thead th {\n",
       "        text-align: right;\n",
       "    }\n",
       "</style>\n",
       "<table border=\"1\" class=\"dataframe\">\n",
       "  <thead>\n",
       "    <tr style=\"text-align: right;\">\n",
       "      <th></th>\n",
       "      <th>ID</th>\n",
       "      <th>Gender</th>\n",
       "      <th>Age</th>\n",
       "      <th>Class</th>\n",
       "      <th>Major</th>\n",
       "      <th>Grad Intention</th>\n",
       "      <th>GPA</th>\n",
       "      <th>Employment</th>\n",
       "      <th>Salary</th>\n",
       "      <th>Social Networking</th>\n",
       "      <th>Satisfaction</th>\n",
       "      <th>Spending</th>\n",
       "      <th>Computer</th>\n",
       "      <th>Text Messages</th>\n",
       "    </tr>\n",
       "  </thead>\n",
       "  <tbody>\n",
       "    <tr>\n",
       "      <th>0</th>\n",
       "      <td>1</td>\n",
       "      <td>Female</td>\n",
       "      <td>20</td>\n",
       "      <td>Junior</td>\n",
       "      <td>Other</td>\n",
       "      <td>Yes</td>\n",
       "      <td>2.9</td>\n",
       "      <td>Full-Time</td>\n",
       "      <td>50.0</td>\n",
       "      <td>1</td>\n",
       "      <td>3</td>\n",
       "      <td>350</td>\n",
       "      <td>Laptop</td>\n",
       "      <td>200</td>\n",
       "    </tr>\n",
       "    <tr>\n",
       "      <th>1</th>\n",
       "      <td>2</td>\n",
       "      <td>Male</td>\n",
       "      <td>23</td>\n",
       "      <td>Senior</td>\n",
       "      <td>Management</td>\n",
       "      <td>Yes</td>\n",
       "      <td>3.6</td>\n",
       "      <td>Part-Time</td>\n",
       "      <td>25.0</td>\n",
       "      <td>1</td>\n",
       "      <td>4</td>\n",
       "      <td>360</td>\n",
       "      <td>Laptop</td>\n",
       "      <td>50</td>\n",
       "    </tr>\n",
       "    <tr>\n",
       "      <th>2</th>\n",
       "      <td>3</td>\n",
       "      <td>Male</td>\n",
       "      <td>21</td>\n",
       "      <td>Junior</td>\n",
       "      <td>Other</td>\n",
       "      <td>Yes</td>\n",
       "      <td>2.5</td>\n",
       "      <td>Part-Time</td>\n",
       "      <td>45.0</td>\n",
       "      <td>2</td>\n",
       "      <td>4</td>\n",
       "      <td>600</td>\n",
       "      <td>Laptop</td>\n",
       "      <td>200</td>\n",
       "    </tr>\n",
       "    <tr>\n",
       "      <th>3</th>\n",
       "      <td>4</td>\n",
       "      <td>Male</td>\n",
       "      <td>21</td>\n",
       "      <td>Junior</td>\n",
       "      <td>CIS</td>\n",
       "      <td>Yes</td>\n",
       "      <td>2.5</td>\n",
       "      <td>Full-Time</td>\n",
       "      <td>40.0</td>\n",
       "      <td>4</td>\n",
       "      <td>6</td>\n",
       "      <td>600</td>\n",
       "      <td>Laptop</td>\n",
       "      <td>250</td>\n",
       "    </tr>\n",
       "    <tr>\n",
       "      <th>8</th>\n",
       "      <td>9</td>\n",
       "      <td>Female</td>\n",
       "      <td>20</td>\n",
       "      <td>Junior</td>\n",
       "      <td>Management</td>\n",
       "      <td>Yes</td>\n",
       "      <td>3.6</td>\n",
       "      <td>Unemployed</td>\n",
       "      <td>30.0</td>\n",
       "      <td>0</td>\n",
       "      <td>4</td>\n",
       "      <td>500</td>\n",
       "      <td>Laptop</td>\n",
       "      <td>400</td>\n",
       "    </tr>\n",
       "  </tbody>\n",
       "</table>\n",
       "</div>"
      ],
      "text/plain": [
       "   ID  Gender  Age   Class       Major Grad Intention  GPA  Employment  \\\n",
       "0   1  Female   20  Junior       Other            Yes  2.9   Full-Time   \n",
       "1   2    Male   23  Senior  Management            Yes  3.6   Part-Time   \n",
       "2   3    Male   21  Junior       Other            Yes  2.5   Part-Time   \n",
       "3   4    Male   21  Junior         CIS            Yes  2.5   Full-Time   \n",
       "8   9  Female   20  Junior  Management            Yes  3.6  Unemployed   \n",
       "\n",
       "   Salary  Social Networking  Satisfaction  Spending Computer  Text Messages  \n",
       "0    50.0                  1             3       350   Laptop            200  \n",
       "1    25.0                  1             4       360   Laptop             50  \n",
       "2    45.0                  2             4       600   Laptop            200  \n",
       "3    40.0                  4             6       600   Laptop            250  \n",
       "8    30.0                  0             4       500   Laptop            400  "
      ]
     },
     "execution_count": 145,
     "metadata": {},
     "output_type": "execute_result"
    }
   ],
   "source": [
    "d=p[p['Grad Intention']!='Undecided']\n",
    "d.head()"
   ]
  },
  {
   "cell_type": "code",
   "execution_count": 146,
   "id": "76c9a5b3",
   "metadata": {},
   "outputs": [
    {
     "data": {
      "text/html": [
       "<div>\n",
       "<style scoped>\n",
       "    .dataframe tbody tr th:only-of-type {\n",
       "        vertical-align: middle;\n",
       "    }\n",
       "\n",
       "    .dataframe tbody tr th {\n",
       "        vertical-align: top;\n",
       "    }\n",
       "\n",
       "    .dataframe thead th {\n",
       "        text-align: right;\n",
       "    }\n",
       "</style>\n",
       "<table border=\"1\" class=\"dataframe\">\n",
       "  <thead>\n",
       "    <tr style=\"text-align: right;\">\n",
       "      <th>Grad Intention</th>\n",
       "      <th>No</th>\n",
       "      <th>Yes</th>\n",
       "      <th>Total</th>\n",
       "    </tr>\n",
       "    <tr>\n",
       "      <th>Gender</th>\n",
       "      <th></th>\n",
       "      <th></th>\n",
       "      <th></th>\n",
       "    </tr>\n",
       "  </thead>\n",
       "  <tbody>\n",
       "    <tr>\n",
       "      <th>Female</th>\n",
       "      <td>9</td>\n",
       "      <td>11</td>\n",
       "      <td>20</td>\n",
       "    </tr>\n",
       "    <tr>\n",
       "      <th>Male</th>\n",
       "      <td>3</td>\n",
       "      <td>17</td>\n",
       "      <td>20</td>\n",
       "    </tr>\n",
       "    <tr>\n",
       "      <th>Total</th>\n",
       "      <td>12</td>\n",
       "      <td>28</td>\n",
       "      <td>40</td>\n",
       "    </tr>\n",
       "  </tbody>\n",
       "</table>\n",
       "</div>"
      ],
      "text/plain": [
       "Grad Intention  No  Yes  Total\n",
       "Gender                        \n",
       "Female           9   11     20\n",
       "Male             3   17     20\n",
       "Total           12   28     40"
      ]
     },
     "execution_count": 146,
     "metadata": {},
     "output_type": "execute_result"
    }
   ],
   "source": [
    "pd.crosstab(d['Gender'],d['Grad Intention'],margins=True,margins_name=\"Total\")"
   ]
  },
  {
   "cell_type": "code",
   "execution_count": 147,
   "id": "aeac6524",
   "metadata": {},
   "outputs": [],
   "source": [
    "#Here, we need to prove : P(F ∩ Yes) = P(F) * P(Yes)\n"
   ]
  },
  {
   "cell_type": "code",
   "execution_count": 148,
   "id": "4b0ce563",
   "metadata": {},
   "outputs": [],
   "source": [
    "p_yes= 28/40\n",
    "p_female= 20/40\n",
    "p_Female_yes=11/20"
   ]
  },
  {
   "cell_type": "code",
   "execution_count": 149,
   "id": "21079e78",
   "metadata": {},
   "outputs": [
    {
     "name": "stdout",
     "output_type": "stream",
     "text": [
      "P(F)* P(Yes) = 0.35\n"
     ]
    }
   ],
   "source": [
    "print('P(F)* P(Yes) =',p_yes * p_female)"
   ]
  },
  {
   "cell_type": "code",
   "execution_count": 150,
   "id": "0cd4318b",
   "metadata": {},
   "outputs": [
    {
     "name": "stdout",
     "output_type": "stream",
     "text": [
      "P(F ∩ Yes) = 0.55\n"
     ]
    }
   ],
   "source": [
    "print('P(F ∩ Yes) =',p_Female_yes)"
   ]
  },
  {
   "cell_type": "code",
   "execution_count": 151,
   "id": "f11fa272",
   "metadata": {},
   "outputs": [],
   "source": [
    "#Hence, not independent events."
   ]
  },
  {
   "cell_type": "markdown",
   "id": "99b64e95",
   "metadata": {},
   "source": [
    "# 2.7. Note that there are four numerical (continuous) variables in the data set, GPA, Salary, Spending, and Text Messages."
   ]
  },
  {
   "cell_type": "markdown",
   "id": "c714dacb",
   "metadata": {},
   "source": [
    "# 2.7.1. If a student is chosen randomly, what is the probability that his/her GPA is less than 3?"
   ]
  },
  {
   "cell_type": "code",
   "execution_count": 152,
   "id": "c38b19f0",
   "metadata": {},
   "outputs": [
    {
     "name": "stdout",
     "output_type": "stream",
     "text": [
      "The mean of GPA for all the students is 3.129032258064516\n"
     ]
    }
   ],
   "source": [
    "m=p.GPA.mean()\n",
    "print('The mean of GPA for all the students is', m)"
   ]
  },
  {
   "cell_type": "code",
   "execution_count": 153,
   "id": "29679233",
   "metadata": {},
   "outputs": [
    {
     "name": "stdout",
     "output_type": "stream",
     "text": [
      "If a student is chosen randomly,the probability that his/herGPA is less than 3 is 39.5 %\n"
     ]
    }
   ],
   "source": [
    "print('If a student is chosen randomly,the probability that his/herGPA is less than 3 is',round(stats.poisson.cdf(2,m),3)*100,'%')"
   ]
  },
  {
   "cell_type": "markdown",
   "id": "b56fd8a4",
   "metadata": {},
   "source": [
    "# 2.7.2. Find the conditional probability that a randomly selected male earns 50 or more. Find the conditional probability that a randomly selected female earns 50 or more."
   ]
  },
  {
   "cell_type": "code",
   "execution_count": 154,
   "id": "537d6616",
   "metadata": {},
   "outputs": [
    {
     "data": {
      "text/html": [
       "<div>\n",
       "<style scoped>\n",
       "    .dataframe tbody tr th:only-of-type {\n",
       "        vertical-align: middle;\n",
       "    }\n",
       "\n",
       "    .dataframe tbody tr th {\n",
       "        vertical-align: top;\n",
       "    }\n",
       "\n",
       "    .dataframe thead th {\n",
       "        text-align: right;\n",
       "    }\n",
       "</style>\n",
       "<table border=\"1\" class=\"dataframe\">\n",
       "  <thead>\n",
       "    <tr style=\"text-align: right;\">\n",
       "      <th></th>\n",
       "      <th>ID</th>\n",
       "      <th>Gender</th>\n",
       "      <th>Age</th>\n",
       "      <th>Class</th>\n",
       "      <th>Major</th>\n",
       "      <th>Grad Intention</th>\n",
       "      <th>GPA</th>\n",
       "      <th>Employment</th>\n",
       "      <th>Salary</th>\n",
       "      <th>Social Networking</th>\n",
       "      <th>Satisfaction</th>\n",
       "      <th>Spending</th>\n",
       "      <th>Computer</th>\n",
       "      <th>Text Messages</th>\n",
       "    </tr>\n",
       "  </thead>\n",
       "  <tbody>\n",
       "    <tr>\n",
       "      <th>1</th>\n",
       "      <td>2</td>\n",
       "      <td>Male</td>\n",
       "      <td>23</td>\n",
       "      <td>Senior</td>\n",
       "      <td>Management</td>\n",
       "      <td>Yes</td>\n",
       "      <td>3.6</td>\n",
       "      <td>Part-Time</td>\n",
       "      <td>25.0</td>\n",
       "      <td>1</td>\n",
       "      <td>4</td>\n",
       "      <td>360</td>\n",
       "      <td>Laptop</td>\n",
       "      <td>50</td>\n",
       "    </tr>\n",
       "    <tr>\n",
       "      <th>2</th>\n",
       "      <td>3</td>\n",
       "      <td>Male</td>\n",
       "      <td>21</td>\n",
       "      <td>Junior</td>\n",
       "      <td>Other</td>\n",
       "      <td>Yes</td>\n",
       "      <td>2.5</td>\n",
       "      <td>Part-Time</td>\n",
       "      <td>45.0</td>\n",
       "      <td>2</td>\n",
       "      <td>4</td>\n",
       "      <td>600</td>\n",
       "      <td>Laptop</td>\n",
       "      <td>200</td>\n",
       "    </tr>\n",
       "    <tr>\n",
       "      <th>3</th>\n",
       "      <td>4</td>\n",
       "      <td>Male</td>\n",
       "      <td>21</td>\n",
       "      <td>Junior</td>\n",
       "      <td>CIS</td>\n",
       "      <td>Yes</td>\n",
       "      <td>2.5</td>\n",
       "      <td>Full-Time</td>\n",
       "      <td>40.0</td>\n",
       "      <td>4</td>\n",
       "      <td>6</td>\n",
       "      <td>600</td>\n",
       "      <td>Laptop</td>\n",
       "      <td>250</td>\n",
       "    </tr>\n",
       "    <tr>\n",
       "      <th>4</th>\n",
       "      <td>5</td>\n",
       "      <td>Male</td>\n",
       "      <td>23</td>\n",
       "      <td>Senior</td>\n",
       "      <td>Other</td>\n",
       "      <td>Undecided</td>\n",
       "      <td>2.8</td>\n",
       "      <td>Unemployed</td>\n",
       "      <td>40.0</td>\n",
       "      <td>2</td>\n",
       "      <td>4</td>\n",
       "      <td>500</td>\n",
       "      <td>Laptop</td>\n",
       "      <td>100</td>\n",
       "    </tr>\n",
       "    <tr>\n",
       "      <th>11</th>\n",
       "      <td>12</td>\n",
       "      <td>Male</td>\n",
       "      <td>21</td>\n",
       "      <td>Senior</td>\n",
       "      <td>Undecided</td>\n",
       "      <td>No</td>\n",
       "      <td>3.5</td>\n",
       "      <td>Full-Time</td>\n",
       "      <td>37.0</td>\n",
       "      <td>2</td>\n",
       "      <td>3</td>\n",
       "      <td>500</td>\n",
       "      <td>Laptop</td>\n",
       "      <td>100</td>\n",
       "    </tr>\n",
       "  </tbody>\n",
       "</table>\n",
       "</div>"
      ],
      "text/plain": [
       "    ID Gender  Age   Class       Major Grad Intention  GPA  Employment  \\\n",
       "1    2   Male   23  Senior  Management            Yes  3.6   Part-Time   \n",
       "2    3   Male   21  Junior       Other            Yes  2.5   Part-Time   \n",
       "3    4   Male   21  Junior         CIS            Yes  2.5   Full-Time   \n",
       "4    5   Male   23  Senior       Other      Undecided  2.8  Unemployed   \n",
       "11  12   Male   21  Senior   Undecided             No  3.5   Full-Time   \n",
       "\n",
       "    Salary  Social Networking  Satisfaction  Spending Computer  Text Messages  \n",
       "1     25.0                  1             4       360   Laptop             50  \n",
       "2     45.0                  2             4       600   Laptop            200  \n",
       "3     40.0                  4             6       600   Laptop            250  \n",
       "4     40.0                  2             4       500   Laptop            100  \n",
       "11    37.0                  2             3       500   Laptop            100  "
      ]
     },
     "execution_count": 154,
     "metadata": {},
     "output_type": "execute_result"
    }
   ],
   "source": [
    "\n",
    "data_male= p[(p['Gender']=='Male')]\n",
    "data_male.head()"
   ]
  },
  {
   "cell_type": "code",
   "execution_count": 155,
   "id": "c3533922",
   "metadata": {},
   "outputs": [
    {
     "data": {
      "image/png": "[encoded data removed]",
      "text/plain": [
       "<Figure size 720x504 with 1 Axes>"
      ]
     },
     "metadata": {},
     "output_type": "display_data"
    }
   ],
   "source": [
    "plt.figure(figsize=(10,7))\n",
    "plt.title('Salary of Male',fontsize=20)\n",
    "plt.xlabel('Salary', fontsize=15)\n",
    "sns.distplot(data_male['Salary'],kde_kws={'color':'b'})\n",
    "plt.tick_params(labelsize=15, pad=6);"
   ]
  },
  {
   "cell_type": "code",
   "execution_count": 156,
   "id": "a85a2f25",
   "metadata": {},
   "outputs": [
    {
     "data": {
      "text/plain": [
       "56.857142857142854"
      ]
     },
     "execution_count": 156,
     "metadata": {},
     "output_type": "execute_result"
    }
   ],
   "source": [
    "data_mean=p[(p['Gender']=='Male') & (p['Salary']>=50)]['Salary'].mean()\n",
    "data_mean\n"
   ]
  },
  {
   "cell_type": "code",
   "execution_count": 157,
   "id": "7df9b4f5",
   "metadata": {},
   "outputs": [
    {
     "data": {
      "text/plain": [
       "8.141603913585719"
      ]
     },
     "execution_count": 157,
     "metadata": {},
     "output_type": "execute_result"
    }
   ],
   "source": [
    "data_std =p[(p['Gender']=='Male') & (p['Salary']>=50)]['Salary'].std()\n",
    "data_std"
   ]
  },
  {
   "cell_type": "code",
   "execution_count": 158,
   "id": "33d808a3",
   "metadata": {},
   "outputs": [
    {
     "name": "stdout",
     "output_type": "stream",
     "text": [
      "The Conditional probability that a randomly selected male earns 50 or more is 83.3 %\n"
     ]
    }
   ],
   "source": [
    "print('The Conditional probability that a randomly selected male earns 50 or more is', round(1-stats.norm.cdf(49,data_mean,data_std),3)*100,'%')\n"
   ]
  },
  {
   "cell_type": "code",
   "execution_count": 159,
   "id": "3ddcfb90",
   "metadata": {},
   "outputs": [
    {
     "data": {
      "text/html": [
       "<div>\n",
       "<style scoped>\n",
       "    .dataframe tbody tr th:only-of-type {\n",
       "        vertical-align: middle;\n",
       "    }\n",
       "\n",
       "    .dataframe tbody tr th {\n",
       "        vertical-align: top;\n",
       "    }\n",
       "\n",
       "    .dataframe thead th {\n",
       "        text-align: right;\n",
       "    }\n",
       "</style>\n",
       "<table border=\"1\" class=\"dataframe\">\n",
       "  <thead>\n",
       "    <tr style=\"text-align: right;\">\n",
       "      <th></th>\n",
       "      <th>ID</th>\n",
       "      <th>Gender</th>\n",
       "      <th>Age</th>\n",
       "      <th>Class</th>\n",
       "      <th>Major</th>\n",
       "      <th>Grad Intention</th>\n",
       "      <th>GPA</th>\n",
       "      <th>Employment</th>\n",
       "      <th>Salary</th>\n",
       "      <th>Social Networking</th>\n",
       "      <th>Satisfaction</th>\n",
       "      <th>Spending</th>\n",
       "      <th>Computer</th>\n",
       "      <th>Text Messages</th>\n",
       "    </tr>\n",
       "  </thead>\n",
       "  <tbody>\n",
       "    <tr>\n",
       "      <th>0</th>\n",
       "      <td>1</td>\n",
       "      <td>Female</td>\n",
       "      <td>20</td>\n",
       "      <td>Junior</td>\n",
       "      <td>Other</td>\n",
       "      <td>Yes</td>\n",
       "      <td>2.9</td>\n",
       "      <td>Full-Time</td>\n",
       "      <td>50.0</td>\n",
       "      <td>1</td>\n",
       "      <td>3</td>\n",
       "      <td>350</td>\n",
       "      <td>Laptop</td>\n",
       "      <td>200</td>\n",
       "    </tr>\n",
       "    <tr>\n",
       "      <th>5</th>\n",
       "      <td>6</td>\n",
       "      <td>Female</td>\n",
       "      <td>22</td>\n",
       "      <td>Senior</td>\n",
       "      <td>Economics/Finance</td>\n",
       "      <td>Undecided</td>\n",
       "      <td>2.3</td>\n",
       "      <td>Unemployed</td>\n",
       "      <td>78.0</td>\n",
       "      <td>3</td>\n",
       "      <td>2</td>\n",
       "      <td>700</td>\n",
       "      <td>Laptop</td>\n",
       "      <td>30</td>\n",
       "    </tr>\n",
       "    <tr>\n",
       "      <th>6</th>\n",
       "      <td>7</td>\n",
       "      <td>Female</td>\n",
       "      <td>21</td>\n",
       "      <td>Junior</td>\n",
       "      <td>Other</td>\n",
       "      <td>Undecided</td>\n",
       "      <td>3.0</td>\n",
       "      <td>Part-Time</td>\n",
       "      <td>50.0</td>\n",
       "      <td>1</td>\n",
       "      <td>3</td>\n",
       "      <td>500</td>\n",
       "      <td>Laptop</td>\n",
       "      <td>50</td>\n",
       "    </tr>\n",
       "    <tr>\n",
       "      <th>7</th>\n",
       "      <td>8</td>\n",
       "      <td>Female</td>\n",
       "      <td>22</td>\n",
       "      <td>Senior</td>\n",
       "      <td>Other</td>\n",
       "      <td>Undecided</td>\n",
       "      <td>3.1</td>\n",
       "      <td>Full-Time</td>\n",
       "      <td>80.0</td>\n",
       "      <td>1</td>\n",
       "      <td>2</td>\n",
       "      <td>200</td>\n",
       "      <td>Tablet</td>\n",
       "      <td>300</td>\n",
       "    </tr>\n",
       "    <tr>\n",
       "      <th>8</th>\n",
       "      <td>9</td>\n",
       "      <td>Female</td>\n",
       "      <td>20</td>\n",
       "      <td>Junior</td>\n",
       "      <td>Management</td>\n",
       "      <td>Yes</td>\n",
       "      <td>3.6</td>\n",
       "      <td>Unemployed</td>\n",
       "      <td>30.0</td>\n",
       "      <td>0</td>\n",
       "      <td>4</td>\n",
       "      <td>500</td>\n",
       "      <td>Laptop</td>\n",
       "      <td>400</td>\n",
       "    </tr>\n",
       "  </tbody>\n",
       "</table>\n",
       "</div>"
      ],
      "text/plain": [
       "   ID  Gender  Age   Class              Major Grad Intention  GPA  Employment  \\\n",
       "0   1  Female   20  Junior              Other            Yes  2.9   Full-Time   \n",
       "5   6  Female   22  Senior  Economics/Finance      Undecided  2.3  Unemployed   \n",
       "6   7  Female   21  Junior              Other      Undecided  3.0   Part-Time   \n",
       "7   8  Female   22  Senior              Other      Undecided  3.1   Full-Time   \n",
       "8   9  Female   20  Junior         Management            Yes  3.6  Unemployed   \n",
       "\n",
       "   Salary  Social Networking  Satisfaction  Spending Computer  Text Messages  \n",
       "0    50.0                  1             3       350   Laptop            200  \n",
       "5    78.0                  3             2       700   Laptop             30  \n",
       "6    50.0                  1             3       500   Laptop             50  \n",
       "7    80.0                  1             2       200   Tablet            300  \n",
       "8    30.0                  0             4       500   Laptop            400  "
      ]
     },
     "execution_count": 159,
     "metadata": {},
     "output_type": "execute_result"
    }
   ],
   "source": [
    "data_female= p[(p['Gender']=='Female')]\n",
    "data_female.head()"
   ]
  },
  {
   "cell_type": "code",
   "execution_count": 160,
   "id": "0d775a82",
   "metadata": {},
   "outputs": [
    {
     "data": {
      "image/png": "[encoded data removed]",
      "text/plain": [
       "<Figure size 720x504 with 1 Axes>"
      ]
     },
     "metadata": {},
     "output_type": "display_data"
    }
   ],
   "source": [
    "plt.figure(figsize=(10,7))\n",
    "plt.title('Salary of Female',fontsize=20)\n",
    "plt.xlabel('Salary', fontsize=15)\n",
    "sns.distplot(data_female['Salary'],kde_kws={'color':'b'})\n",
    "plt.tick_params(labelsize=15, pad=6);"
   ]
  },
  {
   "cell_type": "code",
   "execution_count": 161,
   "id": "4cd9415c",
   "metadata": {},
   "outputs": [
    {
     "data": {
      "text/plain": [
       "58.5"
      ]
     },
     "execution_count": 161,
     "metadata": {},
     "output_type": "execute_result"
    }
   ],
   "source": [
    "data_mean1= p[(p['Gender']=='Female') & (p['Salary']>=50)]['Salary'].mean()\n",
    "data_mean1"
   ]
  },
  {
   "cell_type": "code",
   "execution_count": 162,
   "id": "3a42222a",
   "metadata": {},
   "outputs": [
    {
     "data": {
      "text/plain": [
       "9.102359099512093"
      ]
     },
     "execution_count": 162,
     "metadata": {},
     "output_type": "execute_result"
    }
   ],
   "source": [
    "data_std1 = p[(p['Gender']=='Female') & (p['Salary']>=50)]['Salary'].std()\n",
    "data_std1"
   ]
  },
  {
   "cell_type": "code",
   "execution_count": 163,
   "id": "dfd62375",
   "metadata": {},
   "outputs": [
    {
     "name": "stdout",
     "output_type": "stream",
     "text": [
      "The Conditional probability that a randomly selected female earns 50 or more is 85.2 %\n"
     ]
    }
   ],
   "source": [
    "print('The Conditional probability that a randomly selected female earns 50 or more is', round(1-stats.norm.cdf(49,data_mean1,data_std1),3)*100,'%')\n"
   ]
  },
  {
   "cell_type": "markdown",
   "id": "f00dc984",
   "metadata": {},
   "source": [
    "# 2.8. Note that there are four numerical (continuous) variables in the data set, GPA, Salary, Spending, and Text Messages. For each of them comment whether they follow a normal distribution. Write a note summarizing your conclusions."
   ]
  },
  {
   "cell_type": "code",
   "execution_count": 164,
   "id": "c56e2504",
   "metadata": {},
   "outputs": [
    {
     "data": {
      "text/plain": [
       "Text(0.5, 1.0, 'Text Messages')"
      ]
     },
     "execution_count": 164,
     "metadata": {},
     "output_type": "execute_result"
    },
    {
     "data": {
      "image/png": "[encoded data removed]",
      "text/plain": [
       "<Figure size 720x720 with 4 Axes>"
      ]
     },
     "metadata": {},
     "output_type": "display_data"
    }
   ],
   "source": [
    "\n",
    "plt.rcParams[\"figure.figsize\"] = [10, 10]\n",
    "plt.rcParams[\"figure.autolayout\"] = True\n",
    "\n",
    "\n",
    "fig, axes = plt.subplots(2, 2)\n",
    "fig.subplots_adjust(hspace=0.725, wspace=0.725)\n",
    "\n",
    "\n",
    "sns.distplot(p['GPA'],kde_kws={'color':'b'},ax = axes[0,0])\n",
    "sns.distplot(p['Salary'],kde_kws={'color':'b'},ax = axes[0,1])\n",
    "sns.distplot(p['Spending'],kde_kws={'color':'b'},ax = axes[1,0])\n",
    "sns.distplot(p['Text Messages'],kde_kws={'color':'b'},ax = axes[1,1])\n",
    "\n",
    "axes[0,0].set_title(\"GPA\")\n",
    "axes[0,1].set_title(\"Salary\")\n",
    "axes[1,0].set_title(\"Spending\")\n",
    "axes[1,1].set_title(\"Text Messages\")\n",
    "\n"
   ]
  },
  {
   "cell_type": "code",
   "execution_count": 208,
   "id": "edcc2105",
   "metadata": {},
   "outputs": [
    {
     "name": "stdout",
     "output_type": "stream",
     "text": [
      "Statistics=0.969, p1=0.112\n"
     ]
    }
   ],
   "source": [
    "from scipy.stats import shapiro\n",
    "# normality test\n",
    "stat, p1 = shapiro(p['GPA'])\n",
    "\n",
    "print('Statistics=%.3f, p1=%.3f' % (stat, p1))"
   ]
  },
  {
   "cell_type": "code",
   "execution_count": 209,
   "id": "3578cf66",
   "metadata": {},
   "outputs": [
    {
     "name": "stdout",
     "output_type": "stream",
     "text": [
      "Statistics=0.957, p2=0.028\n"
     ]
    }
   ],
   "source": [
    "stat1, p2 = shapiro(p['Salary'])\n",
    "\n",
    "print('Statistics=%.3f, p2=%.3f' % (stat1, p2))"
   ]
  },
  {
   "cell_type": "code",
   "execution_count": 200,
   "id": "88ce009a",
   "metadata": {},
   "outputs": [
    {
     "name": "stdout",
     "output_type": "stream",
     "text": [
      "Statistics=0.878, p3=0.00002\n"
     ]
    }
   ],
   "source": [
    "stat2, p3 = shapiro(p['Spending'])\n",
    "\n",
    "print('Statistics=%.3f, p3=%.5f' % (stat2, p3))"
   ]
  },
  {
   "cell_type": "code",
   "execution_count": 215,
   "id": "e95d35f8",
   "metadata": {
    "scrolled": true
   },
   "outputs": [
    {
     "name": "stdout",
     "output_type": "stream",
     "text": [
      "Statistics=0.859, p4=0.0000043\n"
     ]
    }
   ],
   "source": [
    "stat3, p4 = shapiro(p['Text Messages'])\n",
    "\n",
    "print('Statistics=%.3f, p4=%.7f' % (stat3, p4))"
   ]
  },
  {
   "cell_type": "code",
   "execution_count": 225,
   "id": "f4933c8c",
   "metadata": {},
   "outputs": [
    {
     "name": "stdout",
     "output_type": "stream",
     "text": [
      "Shapiro test for GPA is stat: 0.969  p_value:  0.112\n",
      "Shapiro test for Salary is stat: 0.957 p_value:  0.028\n",
      "Shapiro test for Spending is stat: 0.878 p_value:  0.0002\n",
      "Shapiro test for Text Messages is stat: 0.859 p_value:  4e-06\n"
     ]
    }
   ],
   "source": [
    "print('Shapiro test for GPA is stat:',0.969,' p_value: ',0.112)\n",
    "print('Shapiro test for Salary is stat:',0.957,'p_value: ',0.028)\n",
    "print('Shapiro test for Spending is stat:',0.878, 'p_value: ',0.0002)\n",
    "print('Shapiro test for Text Messages is stat:',0.859,'p_value: ',0.000004)"
   ]
  },
  {
   "cell_type": "code",
   "execution_count": 214,
   "id": "dec7a74f",
   "metadata": {},
   "outputs": [
    {
     "data": {
      "text/plain": [
       "GPA             -0.314600\n",
       "Salary           0.534701\n",
       "Spending         1.585915\n",
       "Text Messages    1.295808\n",
       "dtype: float64"
      ]
     },
     "execution_count": 214,
     "metadata": {},
     "output_type": "execute_result"
    }
   ],
   "source": [
    "data=p[['GPA','Salary','Spending','Text Messages']]\n",
    "d=data.skew(axis = 0, skipna = True)\n",
    "d"
   ]
  },
  {
   "cell_type": "code",
   "execution_count": 167,
   "id": "1ad07ba3",
   "metadata": {},
   "outputs": [
    {
     "data": {
      "text/html": [
       "<div>\n",
       "<style scoped>\n",
       "    .dataframe tbody tr th:only-of-type {\n",
       "        vertical-align: middle;\n",
       "    }\n",
       "\n",
       "    .dataframe tbody tr th {\n",
       "        vertical-align: top;\n",
       "    }\n",
       "\n",
       "    .dataframe thead th {\n",
       "        text-align: right;\n",
       "    }\n",
       "</style>\n",
       "<table border=\"1\" class=\"dataframe\">\n",
       "  <thead>\n",
       "    <tr style=\"text-align: right;\">\n",
       "      <th></th>\n",
       "      <th>Skewness</th>\n",
       "    </tr>\n",
       "  </thead>\n",
       "  <tbody>\n",
       "    <tr>\n",
       "      <th>GPA</th>\n",
       "      <td>-0.314600</td>\n",
       "    </tr>\n",
       "    <tr>\n",
       "      <th>Salary</th>\n",
       "      <td>0.534701</td>\n",
       "    </tr>\n",
       "    <tr>\n",
       "      <th>Spending</th>\n",
       "      <td>1.585915</td>\n",
       "    </tr>\n",
       "    <tr>\n",
       "      <th>Text Messages</th>\n",
       "      <td>1.295808</td>\n",
       "    </tr>\n",
       "  </tbody>\n",
       "</table>\n",
       "</div>"
      ],
      "text/plain": [
       "               Skewness\n",
       "GPA           -0.314600\n",
       "Salary         0.534701\n",
       "Spending       1.585915\n",
       "Text Messages  1.295808"
      ]
     },
     "execution_count": 167,
     "metadata": {},
     "output_type": "execute_result"
    }
   ],
   "source": [
    "df = pd.DataFrame(d, columns =['Skewness'], dtype = float) \n",
    "df"
   ]
  },
  {
   "cell_type": "markdown",
   "id": "cd014212",
   "metadata": {},
   "source": [
    "# Problem 3:\n",
    "An important quality characteristic used by the manufacturers of ABC asphalt shingles is the amount of moisture the shingles contain when they are packaged. Customers may feel that they have purchased a product lacking in quality if they find moisture and wet shingles inside the packaging.   In some cases, excessive moisture can cause the granules attached to the shingles for texture and coloring purposes to fall off the shingles resulting in appearance problems. To monitor the amount of moisture present, the company conducts moisture tests. A shingle is weighed and then dried. The shingle is then reweighed, and based on the amount of moisture taken out of the product, the pounds of moisture per 100 square feet are calculated. The company would like to show that the mean moisture content is less than 0.35 pounds per 100 square feet."
   ]
  },
  {
   "cell_type": "code",
   "execution_count": 168,
   "id": "47e2ed17",
   "metadata": {},
   "outputs": [],
   "source": [
    "hyp=pd.read_csv(\"A & B shingles-1.csv\")"
   ]
  },
  {
   "cell_type": "code",
   "execution_count": 169,
   "id": "356b0d71",
   "metadata": {},
   "outputs": [
    {
     "data": {
      "text/html": [
       "<div>\n",
       "<style scoped>\n",
       "    .dataframe tbody tr th:only-of-type {\n",
       "        vertical-align: middle;\n",
       "    }\n",
       "\n",
       "    .dataframe tbody tr th {\n",
       "        vertical-align: top;\n",
       "    }\n",
       "\n",
       "    .dataframe thead th {\n",
       "        text-align: right;\n",
       "    }\n",
       "</style>\n",
       "<table border=\"1\" class=\"dataframe\">\n",
       "  <thead>\n",
       "    <tr style=\"text-align: right;\">\n",
       "      <th></th>\n",
       "      <th>A</th>\n",
       "      <th>B</th>\n",
       "    </tr>\n",
       "  </thead>\n",
       "  <tbody>\n",
       "    <tr>\n",
       "      <th>0</th>\n",
       "      <td>0.44</td>\n",
       "      <td>0.14</td>\n",
       "    </tr>\n",
       "    <tr>\n",
       "      <th>1</th>\n",
       "      <td>0.61</td>\n",
       "      <td>0.15</td>\n",
       "    </tr>\n",
       "    <tr>\n",
       "      <th>2</th>\n",
       "      <td>0.47</td>\n",
       "      <td>0.31</td>\n",
       "    </tr>\n",
       "    <tr>\n",
       "      <th>3</th>\n",
       "      <td>0.30</td>\n",
       "      <td>0.16</td>\n",
       "    </tr>\n",
       "    <tr>\n",
       "      <th>4</th>\n",
       "      <td>0.15</td>\n",
       "      <td>0.37</td>\n",
       "    </tr>\n",
       "  </tbody>\n",
       "</table>\n",
       "</div>"
      ],
      "text/plain": [
       "      A     B\n",
       "0  0.44  0.14\n",
       "1  0.61  0.15\n",
       "2  0.47  0.31\n",
       "3  0.30  0.16\n",
       "4  0.15  0.37"
      ]
     },
     "execution_count": 169,
     "metadata": {},
     "output_type": "execute_result"
    }
   ],
   "source": [
    "hyp.head()"
   ]
  },
  {
   "cell_type": "code",
   "execution_count": 170,
   "id": "5b0b45ea",
   "metadata": {},
   "outputs": [
    {
     "data": {
      "text/plain": [
       "A    36\n",
       "B    31\n",
       "dtype: int64"
      ]
     },
     "execution_count": 170,
     "metadata": {},
     "output_type": "execute_result"
    }
   ],
   "source": [
    "hyp.count()"
   ]
  },
  {
   "cell_type": "code",
   "execution_count": 171,
   "id": "d5c472b3",
   "metadata": {},
   "outputs": [
    {
     "data": {
      "text/plain": [
       "A    0\n",
       "B    5\n",
       "dtype: int64"
      ]
     },
     "execution_count": 171,
     "metadata": {},
     "output_type": "execute_result"
    }
   ],
   "source": [
    "hyp.isnull().sum()"
   ]
  },
  {
   "cell_type": "markdown",
   "id": "7eb4b0d5",
   "metadata": {},
   "source": [
    "# 3.1 Do you think there is evidence that means moisture contents in both types of shingles are within the permissible limits? State your conclusions clearly showing all steps."
   ]
  },
  {
   "cell_type": "code",
   "execution_count": null,
   "id": "49f00a3e",
   "metadata": {},
   "outputs": [],
   "source": [
    "# We perform one sample t-test for A & B shingles individually.\n",
    "\n",
    "#For A shingles,\n",
    "#H0 : mean moisture content <=0.35\n",
    "#HA : mean moisture content > 0.35"
   ]
  },
  {
   "cell_type": "code",
   "execution_count": null,
   "id": "cd2725e2",
   "metadata": {},
   "outputs": [],
   "source": [
    "#Level of significance: 0.05"
   ]
  },
  {
   "cell_type": "code",
   "execution_count": 175,
   "id": "3a69a114",
   "metadata": {},
   "outputs": [
    {
     "name": "stdout",
     "output_type": "stream",
     "text": [
      "One sample t test \n",
      "t statistic: -1.4735046253382782 p value: 0.14955266289815025 \n"
     ]
    }
   ],
   "source": [
    "t_statistic, p_value = ttest_1samp(hyp['A'], 0.35)\n",
    "print('One sample t test \\nt statistic: {0} p value: {1} '.format(t_statistic, p_value))"
   ]
  },
  {
   "cell_type": "code",
   "execution_count": 177,
   "id": "0e7d0ad5",
   "metadata": {},
   "outputs": [
    {
     "name": "stdout",
     "output_type": "stream",
     "text": [
      "Level of significance: 0.05\n",
      "We have no evidence to reject the null hypothesis since p value > Level of significance\n",
      "Our one-sample t-test p-value= 0.075\n"
     ]
    }
   ],
   "source": [
    "# p_value < 0.05 => alternative hypothesis:\n",
    "\n",
    "alpha_value = 0.05 # Level of significance\n",
    "print('Level of significance: %.2f' %alpha_value)\n",
    "if p_value < alpha_value: \n",
    "    print('We have evidence to reject the null hypothesis since p value < Level of significance')\n",
    "else:\n",
    "    print('We have no evidence to reject the null hypothesis since p value > Level of significance') \n",
    "\n",
    "print (\"Our one-sample t-test p-value=\", round((p_value/2),3))"
   ]
  },
  {
   "cell_type": "code",
   "execution_count": null,
   "id": "e8f6e7df",
   "metadata": {},
   "outputs": [],
   "source": [
    "#For B shingles,\n",
    "#H0 : mean moisture content <=0.35\n",
    "#HA : mean moisture content > 0.35\n"
   ]
  },
  {
   "cell_type": "code",
   "execution_count": 178,
   "id": "987566b9",
   "metadata": {},
   "outputs": [
    {
     "name": "stdout",
     "output_type": "stream",
     "text": [
      "One sample t test \n",
      "t statistic: -3.1003313069986995 p value1: 0.004180954800638365 \n"
     ]
    }
   ],
   "source": [
    "t_statistic, p_value = ttest_1samp(hyp['B'], 0.35,nan_policy='omit')\n",
    "print('One sample t test \\nt statistic: {0} p value1: {1} '.format(t_statistic, p_value))"
   ]
  },
  {
   "cell_type": "code",
   "execution_count": 180,
   "id": "df3f4476",
   "metadata": {},
   "outputs": [
    {
     "name": "stdout",
     "output_type": "stream",
     "text": [
      "Level of significance: 0.05\n",
      "We have evidence to reject the null hypothesis since p value < Level of significance\n",
      "Our one-sample t-test p-value= 0.002\n"
     ]
    }
   ],
   "source": [
    "# p_value < 0.05 => alternative hypothesis:\n",
    "\n",
    "alpha_value = 0.05 # Level of significance\n",
    "print('Level of significance: %.2f' %alpha_value)\n",
    "if p_value < alpha_value: \n",
    "    print('We have evidence to reject the null hypothesis since p value < Level of significance')\n",
    "else:\n",
    "    print('We have no evidence to reject the null hypothesis since p value > Level of significance') \n",
    "\n",
    "print (\"Our one-sample t-test p-value=\", round((p_value/2),3))"
   ]
  },
  {
   "cell_type": "markdown",
   "id": "c9851804",
   "metadata": {},
   "source": [
    "# 3.2 Do you think that the population mean for shingles A and B are equal? Form the hypothesis and conduct the test of the hypothesis. What assumption do you need to check before the test for equality of means is performed?"
   ]
  },
  {
   "cell_type": "code",
   "execution_count": null,
   "id": "88604d56",
   "metadata": {},
   "outputs": [],
   "source": [
    "#Here, we perform two sample t-test:\n",
    "\n",
    "#H0 : mean moisture content of A = mean moisture content of B\n",
    "#HA : mean moisture content of A≠mean moisture content of B"
   ]
  },
  {
   "cell_type": "code",
   "execution_count": null,
   "id": "48709900",
   "metadata": {},
   "outputs": [],
   "source": [
    "#Level of significance: 0.05"
   ]
  },
  {
   "cell_type": "code",
   "execution_count": 181,
   "id": "d50c7f60",
   "metadata": {},
   "outputs": [
    {
     "name": "stdout",
     "output_type": "stream",
     "text": [
      "t_statistic 1.2896282719661123\n",
      "P Value 0.202\n"
     ]
    }
   ],
   "source": [
    "t_statistic, p_value  = ttest_ind(hyp['A'],hyp['B'],equal_var=True,nan_policy='omit')\n",
    "print('t_statistic',t_statistic)    \n",
    "print('P Value',round(p_value,3))    \n"
   ]
  },
  {
   "cell_type": "code",
   "execution_count": 228,
   "id": "3e27c948",
   "metadata": {},
   "outputs": [
    {
     "name": "stdout",
     "output_type": "stream",
     "text": [
      "Level of significance: 0.05\n",
      "We have no evidence to reject the null hypothesis since p value > Level of significance\n",
      "Our two-sample t-test p-value= 0.202\n"
     ]
    }
   ],
   "source": [
    "# p_value < 0.05 => alternative hypothesis:\n",
    "\n",
    "alpha_value = 0.05 # Level of significance\n",
    "print('Level of significance: %.2f' %alpha_value)\n",
    "if p_value < alpha_value: \n",
    "    print('We have evidence to reject the null hypothesis since p value < Level of significance')\n",
    "else:\n",
    "    print('We have no evidence to reject the null hypothesis since p value > Level of significance') \n",
    "\n",
    "print (\"Our two-sample t-test p-value=\", round(p_value,3))"
   ]
  },
  {
   "cell_type": "code",
   "execution_count": null,
   "id": "c92e83c9",
   "metadata": {},
   "outputs": [],
   "source": []
  },
  {
   "cell_type": "code",
   "execution_count": null,
   "id": "abdcf123",
   "metadata": {},
   "outputs": [],
   "source": []
  }
 ],
 "metadata": {
  "kernelspec": {
   "display_name": "Python 3",
   "language": "python",
   "name": "python3"
  },
  "language_info": {
   "codemirror_mode": {
    "name": "ipython",
    "version": 3
   },
   "file_extension": ".py",
   "mimetype": "text/x-python",
   "name": "python",
   "nbconvert_exporter": "python",
   "pygments_lexer": "ipython3",
   "version": "3.8.8"
  }
 },
 "nbformat": 4,
 "nbformat_minor": 5
}
